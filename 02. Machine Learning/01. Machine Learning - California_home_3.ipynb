{
 "cells": [
  {
   "cell_type": "markdown",
   "id": "715bc01d-b677-44fc-a093-319e5596bd6c",
   "metadata": {},
   "source": [
    "# California Housing Price"
   ]
  },
  {
   "cell_type": "markdown",
   "id": "5c10517b-4bb4-4637-8ac0-6c7ce027f85f",
   "metadata": {
    "tags": []
   },
   "source": [
    "source : [data_california_house.csv](https://drive.google.com/file/d/1NJ7DsgZ3zIdZWTz17RQWgbtDBuk1JVg3/view)"
   ]
  },
  {
   "cell_type": "markdown",
   "id": "67533f98-b1db-40ec-acfd-8c695bc3990d",
   "metadata": {},
   "source": [
    "# Content"
   ]
  },
  {
   "cell_type": "markdown",
   "id": "f6aa7f21-8421-4d6e-a85c-5aae0a13afeb",
   "metadata": {},
   "source": [
    "1. Business Problem Understanding\n",
    "1. Data Understanding\n",
    "1. Data Preprocessing\n",
    "1. Exploration Data Analysis\n",
    "1. Modeling\n",
    "1. Hyperparameter Tuning\n",
    "1. Compare KNN Tuning Predict dengan Actual\n",
    "1. Kesimpulan\n",
    "1. Rekomendasi\n",
    "1. Using Machine Learning\n",
    "\n",
    "*****"
   ]
  },
  {
   "cell_type": "markdown",
   "id": "fdf7d102-92d0-400d-b677-7df2cdfcd4cf",
   "metadata": {
    "tags": []
   },
   "source": [
    "# Business Problem Understanding"
   ]
  },
  {
   "cell_type": "markdown",
   "id": "1429fa21-18cd-4936-9ea0-68877ba0e343",
   "metadata": {},
   "source": [
    "**Context**\n",
    "\n",
    "Tempat tinggal merupakan kebutuhan pokok setiap manusia. Tetapi tidak semua orang memiliki pengetahuan tentang harga rumah yang sesuai dengan value yang di berikan. Di setiap negara cukup sulit untuk orang awam mengetahui harga rumah yang memiliki harga yang sesuai dengan value yang di berikan rumah atau perumahan tsb. Begitupun di negara california yang memiliki 50 lebih daerah yang tentunya tiap daerah memiliki harga rumah yang berbeda-beda. Fenomena ini menjadi kesempatan dan tantangan tersendiri untuk para developer perumahan untuk dapat membangun perumahan yang memiliki harga yang dapat bersaing di daerah tersebut dan tentunya memiliki value yang sesuai."
   ]
  },
  {
   "cell_type": "markdown",
   "id": "560b04f6-355f-402f-adf5-bd216f7afaef",
   "metadata": {},
   "source": [
    "**Problem Statement**\n",
    "\n",
    "Tantangan terbesar untuk para developer perumahan adalah membangun rumah dengan harga dan value rumah yang kompetitif dengan perumahan yang ada di sekitar daerah tersebut. **Sehingga rumah yang di tawarkan atau di bangun oleh developer dapat memberikan keuntungan financial yang maksimal dan rumah yang di bangun juga dapat terjual dengan cepat.**"
   ]
  },
  {
   "cell_type": "markdown",
   "id": "3761e626-eb70-4fd3-8b43-8749d017016c",
   "metadata": {},
   "source": [
    "**Goals**\n",
    "\n",
    "Developer perumahan perlu memiliki 'tool' yang dapat memprediksi serta membantu mereka untuk dapat **menentukan harga dan value rumah yang akan mereka bangun** adanya perbedaan jumlah kamar, jumlah kamar mandi dan rata\" atau median penghasilan masyarakat pada suatu perumahan akan membantu dalam memprediksi harga wajar suatu perumahan di suatu daerah. Yang mana akan mendatangkan profit untuk developer perumahan dan tentunya dengan harga yang kompetitif dan terjangkau orang masyarakat di daerah tersebut."
   ]
  },
  {
   "cell_type": "markdown",
   "id": "5ac34788-731e-4168-aced-e40b4e798021",
   "metadata": {},
   "source": [
    "**Analytic Approach**\n",
    "\n",
    "Jadi, yang perlu kita lakukan adalah menganalisis data untuk dapat menemukan pola dari fitur - fitur yang ada, yang membedakan satu perumahan dengan perumahan lainnya.\n",
    "\n",
    "Selanjutnya, kita akan membangun suatu model regresi yang akan membantu Developer Perumahan untuk dapat menyediakan 'tool' prediksi harga rumah yang akan mereka bangun, **yang mana akan berguna untuk developer memperkirakan budget untuk membangun perumahan secara maksimal agar dapat menghasilkan keuntungan finansial yang maksimal dan tentunya dengan value yang dapat bersaing di daerah tersebut.**"
   ]
  },
  {
   "cell_type": "markdown",
   "id": "c2b91877-dc2f-44f1-a9f6-5da376c5cfad",
   "metadata": {},
   "source": [
    "**Metric Evaluation**\n",
    "\n",
    "Evaluasi metrik yang akan digunakan adalah RMSE, MAE, MAPE dan R-Squared, di mana RMSE adalah nilai rataan akar kuadrat dari error, MAE adalah rataan nilai absolut dari error, sedangkan MAPE adalah rataan persentase error yang dihasilkan oleh model regresi. Semakin kecil nilai RMSE, MAE, MAPE yang dihasilkan, berarti model semakin akurat dalam memprediksi harga sewa sesuai dengan limitasi fitur yang digunakan. sedangan R-squared digunakan untuk mengetahui seberapa baik model dapat merepresentasikan varians keseluruhan data. Semakin mendekati 1, maka semakin fit pula modelnya terhadap data observasi. Namun, metrik ini tidak valid untuk model non-linear."
   ]
  },
  {
   "cell_type": "markdown",
   "id": "960bc25d-64b8-4cf9-93dc-4701c212127a",
   "metadata": {
    "tags": [],
    "toc-hr-collapsed": true
   },
   "source": [
    "# Data Understanding"
   ]
  },
  {
   "cell_type": "markdown",
   "id": "7495ae43-2bf6-4962-aa79-90c0fb16611d",
   "metadata": {
    "tags": []
   },
   "source": [
    "> ## Dataset 1 (```data_california_house.csv```)\n",
    "- dataset merupakan hasil surve sensus perumahan di california pada tahun 1990\n",
    "- setiap data dalam dataset menginformasikan terkait perumahan dan populasi perumahan\n",
    "\n",
    "**Attributes Information**\n",
    "\n",
    "| **Attribute** | **Data Type** | **Description** |\n",
    "| --- | --- | --- |\n",
    "| longitude | float64 | Koordinat garis bujur |\n",
    "| latitude | float64 | Koordinat garis lintang |\n",
    "| housing_median_age | float64 | Median Umur Rumah |\n",
    "| total_rooms | float64 | Total Ruangan |\n",
    "| total_bedrooms | float64 | Total Kamar Tidur |\n",
    "| population | float64 | Populassi Perumahan |\n",
    "| households | float64 | Total Rumah Tangga |\n",
    "| median_income | float64 | Median pendapatan dengan satuan sepuluh ribu US Dollar |\n",
    "| ocean_proximity | object  | Jarak Perumahan dari Laut |\n",
    "| median_house_value | float64 | Median Harga Rumah dengan satuan US dollar |\n",
    "\n",
    "longitude\tlatitude\thousing_median_age\ttotal_rooms\ttotal_bedrooms\tpopulation\thouseholds\tmedian_income\tocean_proximity\tmedian_house_value"
   ]
  },
  {
   "cell_type": "markdown",
   "id": "e539ea2d-d853-4e1f-a3d8-275e9e2e64bf",
   "metadata": {},
   "source": [
    "> ## Dataset 2 (```Data_JALAN_KOTA_DAERAH.csv```)\n",
    "- dataset ini merupakan interpretasi lokasi perumahan yang di dapat dari mengolah feature ```Latitude```, ```Longitude``` menggunakan library geopy.geocoders yang menghasilkan feature ```road```,\t```county```,\t```city```,\tdan ```state``` \n",
    "\n",
    "**Attributes Information**\n",
    "\n",
    "| **Attribute** | **Data Type** | **Description** |\n",
    "| --- | --- | --- |\n",
    "| road | object | Lokasi Jalan Perumahan |\n",
    "| county | object | Lokasi Daerah Perumahan |\n",
    "| city | object | Lokasi Kota Perumahan |\n",
    "| state | object | Negara Perumahan |"
   ]
  },
  {
   "cell_type": "markdown",
   "id": "3b181d80-dd7c-4858-a893-18d060f14efb",
   "metadata": {
    "tags": [],
    "toc-hr-collapsed": true
   },
   "source": [
    "# Data Preprocessing"
   ]
  },
  {
   "cell_type": "markdown",
   "id": "8cbcace2-a996-462d-b63d-1989cbb86922",
   "metadata": {
    "toc-hr-collapsed": true
   },
   "source": [
    "> ## Library and Load Dataset"
   ]
  },
  {
   "cell_type": "code",
   "execution_count": 1,
   "id": "5b7cc8a4-7166-4b9e-a6b5-f4fe393598cc",
   "metadata": {},
   "outputs": [],
   "source": [
    "# Import library yang dibutuhkan untuk eksplorasi dataset\n",
    "import pandas as pd \n",
    "import numpy as np\n",
    "import matplotlib.pyplot as plt\n",
    "import seaborn as sns\n",
    "\n",
    "# Preprocessing Data\n",
    "from sklearn.impute import SimpleImputer\n",
    "from sklearn.preprocessing import LabelEncoder\n",
    "from sklearn.model_selection import train_test_split\n",
    "from sklearn.preprocessing import StandardScaler, RobustScaler\n",
    "\n",
    "# Handling Warning\n",
    "import warnings\n",
    "warnings.filterwarnings('ignore')"
   ]
  },
  {
   "cell_type": "markdown",
   "id": "cd1f8107-c486-41b3-8a8d-6b66612e3939",
   "metadata": {},
   "source": [
    "ada 2 data set yang akan di gabung kan yaitu :\n",
    "1. Dataset ```data_california_house.csv```\n",
    "2. Dataset ```Data_JALAN_KOTA_DAERAH.csv``` yang berisi feature ```road```, ```county```, ```city```, dan ```state``` yang di olah dari feature ```longtitude``` dan ```latitude``` dari dataset ```data_california_house.csv```. \n",
    "\n",
    "Alasan saya membuat feature baru dengan dataset baru karena proses pengolahan convert dari feature ```longtitude``` dan ```latitude``` menjadi feature ```road```, ```county```, ```city```, dan ```state``` memakan waktu yang relatif lama sehingga akan lebih efektif bisa prosesnya saya lakukan di file yang berbeda. file ```ipymb``` juga akan saya lampirkan"
   ]
  },
  {
   "cell_type": "code",
   "execution_count": 2,
   "id": "4604bc31-a946-4fcd-8894-36272573b659",
   "metadata": {},
   "outputs": [
    {
     "ename": "FileNotFoundError",
     "evalue": "[Errno 2] No such file or directory: 'data_california_house.csv'",
     "output_type": "error",
     "traceback": [
      "\u001b[1;31m---------------------------------------------------------------------------\u001b[0m",
      "\u001b[1;31mFileNotFoundError\u001b[0m                         Traceback (most recent call last)",
      "\u001b[1;32m~\\AppData\\Local\\Temp\\ipykernel_9932\\1069684783.py\u001b[0m in \u001b[0;36m<module>\u001b[1;34m\u001b[0m\n\u001b[0;32m      1\u001b[0m \u001b[1;31m# Load dataset\u001b[0m\u001b[1;33m\u001b[0m\u001b[1;33m\u001b[0m\u001b[1;33m\u001b[0m\u001b[0m\n\u001b[1;32m----> 2\u001b[1;33m \u001b[0mdf\u001b[0m \u001b[1;33m=\u001b[0m \u001b[0mpd\u001b[0m\u001b[1;33m.\u001b[0m\u001b[0mconcat\u001b[0m\u001b[1;33m(\u001b[0m\u001b[1;33m[\u001b[0m\u001b[0mpd\u001b[0m\u001b[1;33m.\u001b[0m\u001b[0mread_csv\u001b[0m\u001b[1;33m(\u001b[0m\u001b[1;34m'data_california_house.csv'\u001b[0m\u001b[1;33m)\u001b[0m\u001b[1;33m,\u001b[0m \u001b[0mpd\u001b[0m\u001b[1;33m.\u001b[0m\u001b[0mread_csv\u001b[0m\u001b[1;33m(\u001b[0m\u001b[1;34m'Data_JALAN_KOTA_DAERAH.csv'\u001b[0m\u001b[1;33m)\u001b[0m\u001b[1;33m]\u001b[0m\u001b[1;33m,\u001b[0m \u001b[0maxis\u001b[0m \u001b[1;33m=\u001b[0m \u001b[1;36m1\u001b[0m\u001b[1;33m)\u001b[0m\u001b[1;33m\u001b[0m\u001b[1;33m\u001b[0m\u001b[0m\n\u001b[0m\u001b[0;32m      3\u001b[0m \u001b[0mdf\u001b[0m\u001b[1;33m.\u001b[0m\u001b[0mhead\u001b[0m\u001b[1;33m(\u001b[0m\u001b[1;33m)\u001b[0m\u001b[1;33m\u001b[0m\u001b[1;33m\u001b[0m\u001b[0m\n",
      "\u001b[1;32m~\\anaconda3\\lib\\site-packages\\pandas\\util\\_decorators.py\u001b[0m in \u001b[0;36mwrapper\u001b[1;34m(*args, **kwargs)\u001b[0m\n\u001b[0;32m    309\u001b[0m                     \u001b[0mstacklevel\u001b[0m\u001b[1;33m=\u001b[0m\u001b[0mstacklevel\u001b[0m\u001b[1;33m,\u001b[0m\u001b[1;33m\u001b[0m\u001b[1;33m\u001b[0m\u001b[0m\n\u001b[0;32m    310\u001b[0m                 )\n\u001b[1;32m--> 311\u001b[1;33m             \u001b[1;32mreturn\u001b[0m \u001b[0mfunc\u001b[0m\u001b[1;33m(\u001b[0m\u001b[1;33m*\u001b[0m\u001b[0margs\u001b[0m\u001b[1;33m,\u001b[0m \u001b[1;33m**\u001b[0m\u001b[0mkwargs\u001b[0m\u001b[1;33m)\u001b[0m\u001b[1;33m\u001b[0m\u001b[1;33m\u001b[0m\u001b[0m\n\u001b[0m\u001b[0;32m    312\u001b[0m \u001b[1;33m\u001b[0m\u001b[0m\n\u001b[0;32m    313\u001b[0m         \u001b[1;32mreturn\u001b[0m \u001b[0mwrapper\u001b[0m\u001b[1;33m\u001b[0m\u001b[1;33m\u001b[0m\u001b[0m\n",
      "\u001b[1;32m~\\anaconda3\\lib\\site-packages\\pandas\\io\\parsers\\readers.py\u001b[0m in \u001b[0;36mread_csv\u001b[1;34m(filepath_or_buffer, sep, delimiter, header, names, index_col, usecols, squeeze, prefix, mangle_dupe_cols, dtype, engine, converters, true_values, false_values, skipinitialspace, skiprows, skipfooter, nrows, na_values, keep_default_na, na_filter, verbose, skip_blank_lines, parse_dates, infer_datetime_format, keep_date_col, date_parser, dayfirst, cache_dates, iterator, chunksize, compression, thousands, decimal, lineterminator, quotechar, quoting, doublequote, escapechar, comment, encoding, encoding_errors, dialect, error_bad_lines, warn_bad_lines, on_bad_lines, delim_whitespace, low_memory, memory_map, float_precision, storage_options)\u001b[0m\n\u001b[0;32m    584\u001b[0m     \u001b[0mkwds\u001b[0m\u001b[1;33m.\u001b[0m\u001b[0mupdate\u001b[0m\u001b[1;33m(\u001b[0m\u001b[0mkwds_defaults\u001b[0m\u001b[1;33m)\u001b[0m\u001b[1;33m\u001b[0m\u001b[1;33m\u001b[0m\u001b[0m\n\u001b[0;32m    585\u001b[0m \u001b[1;33m\u001b[0m\u001b[0m\n\u001b[1;32m--> 586\u001b[1;33m     \u001b[1;32mreturn\u001b[0m \u001b[0m_read\u001b[0m\u001b[1;33m(\u001b[0m\u001b[0mfilepath_or_buffer\u001b[0m\u001b[1;33m,\u001b[0m \u001b[0mkwds\u001b[0m\u001b[1;33m)\u001b[0m\u001b[1;33m\u001b[0m\u001b[1;33m\u001b[0m\u001b[0m\n\u001b[0m\u001b[0;32m    587\u001b[0m \u001b[1;33m\u001b[0m\u001b[0m\n\u001b[0;32m    588\u001b[0m \u001b[1;33m\u001b[0m\u001b[0m\n",
      "\u001b[1;32m~\\anaconda3\\lib\\site-packages\\pandas\\io\\parsers\\readers.py\u001b[0m in \u001b[0;36m_read\u001b[1;34m(filepath_or_buffer, kwds)\u001b[0m\n\u001b[0;32m    480\u001b[0m \u001b[1;33m\u001b[0m\u001b[0m\n\u001b[0;32m    481\u001b[0m     \u001b[1;31m# Create the parser.\u001b[0m\u001b[1;33m\u001b[0m\u001b[1;33m\u001b[0m\u001b[1;33m\u001b[0m\u001b[0m\n\u001b[1;32m--> 482\u001b[1;33m     \u001b[0mparser\u001b[0m \u001b[1;33m=\u001b[0m \u001b[0mTextFileReader\u001b[0m\u001b[1;33m(\u001b[0m\u001b[0mfilepath_or_buffer\u001b[0m\u001b[1;33m,\u001b[0m \u001b[1;33m**\u001b[0m\u001b[0mkwds\u001b[0m\u001b[1;33m)\u001b[0m\u001b[1;33m\u001b[0m\u001b[1;33m\u001b[0m\u001b[0m\n\u001b[0m\u001b[0;32m    483\u001b[0m \u001b[1;33m\u001b[0m\u001b[0m\n\u001b[0;32m    484\u001b[0m     \u001b[1;32mif\u001b[0m \u001b[0mchunksize\u001b[0m \u001b[1;32mor\u001b[0m \u001b[0miterator\u001b[0m\u001b[1;33m:\u001b[0m\u001b[1;33m\u001b[0m\u001b[1;33m\u001b[0m\u001b[0m\n",
      "\u001b[1;32m~\\anaconda3\\lib\\site-packages\\pandas\\io\\parsers\\readers.py\u001b[0m in \u001b[0;36m__init__\u001b[1;34m(self, f, engine, **kwds)\u001b[0m\n\u001b[0;32m    809\u001b[0m             \u001b[0mself\u001b[0m\u001b[1;33m.\u001b[0m\u001b[0moptions\u001b[0m\u001b[1;33m[\u001b[0m\u001b[1;34m\"has_index_names\"\u001b[0m\u001b[1;33m]\u001b[0m \u001b[1;33m=\u001b[0m \u001b[0mkwds\u001b[0m\u001b[1;33m[\u001b[0m\u001b[1;34m\"has_index_names\"\u001b[0m\u001b[1;33m]\u001b[0m\u001b[1;33m\u001b[0m\u001b[1;33m\u001b[0m\u001b[0m\n\u001b[0;32m    810\u001b[0m \u001b[1;33m\u001b[0m\u001b[0m\n\u001b[1;32m--> 811\u001b[1;33m         \u001b[0mself\u001b[0m\u001b[1;33m.\u001b[0m\u001b[0m_engine\u001b[0m \u001b[1;33m=\u001b[0m \u001b[0mself\u001b[0m\u001b[1;33m.\u001b[0m\u001b[0m_make_engine\u001b[0m\u001b[1;33m(\u001b[0m\u001b[0mself\u001b[0m\u001b[1;33m.\u001b[0m\u001b[0mengine\u001b[0m\u001b[1;33m)\u001b[0m\u001b[1;33m\u001b[0m\u001b[1;33m\u001b[0m\u001b[0m\n\u001b[0m\u001b[0;32m    812\u001b[0m \u001b[1;33m\u001b[0m\u001b[0m\n\u001b[0;32m    813\u001b[0m     \u001b[1;32mdef\u001b[0m \u001b[0mclose\u001b[0m\u001b[1;33m(\u001b[0m\u001b[0mself\u001b[0m\u001b[1;33m)\u001b[0m\u001b[1;33m:\u001b[0m\u001b[1;33m\u001b[0m\u001b[1;33m\u001b[0m\u001b[0m\n",
      "\u001b[1;32m~\\anaconda3\\lib\\site-packages\\pandas\\io\\parsers\\readers.py\u001b[0m in \u001b[0;36m_make_engine\u001b[1;34m(self, engine)\u001b[0m\n\u001b[0;32m   1038\u001b[0m             )\n\u001b[0;32m   1039\u001b[0m         \u001b[1;31m# error: Too many arguments for \"ParserBase\"\u001b[0m\u001b[1;33m\u001b[0m\u001b[1;33m\u001b[0m\u001b[1;33m\u001b[0m\u001b[0m\n\u001b[1;32m-> 1040\u001b[1;33m         \u001b[1;32mreturn\u001b[0m \u001b[0mmapping\u001b[0m\u001b[1;33m[\u001b[0m\u001b[0mengine\u001b[0m\u001b[1;33m]\u001b[0m\u001b[1;33m(\u001b[0m\u001b[0mself\u001b[0m\u001b[1;33m.\u001b[0m\u001b[0mf\u001b[0m\u001b[1;33m,\u001b[0m \u001b[1;33m**\u001b[0m\u001b[0mself\u001b[0m\u001b[1;33m.\u001b[0m\u001b[0moptions\u001b[0m\u001b[1;33m)\u001b[0m  \u001b[1;31m# type: ignore[call-arg]\u001b[0m\u001b[1;33m\u001b[0m\u001b[1;33m\u001b[0m\u001b[0m\n\u001b[0m\u001b[0;32m   1041\u001b[0m \u001b[1;33m\u001b[0m\u001b[0m\n\u001b[0;32m   1042\u001b[0m     \u001b[1;32mdef\u001b[0m \u001b[0m_failover_to_python\u001b[0m\u001b[1;33m(\u001b[0m\u001b[0mself\u001b[0m\u001b[1;33m)\u001b[0m\u001b[1;33m:\u001b[0m\u001b[1;33m\u001b[0m\u001b[1;33m\u001b[0m\u001b[0m\n",
      "\u001b[1;32m~\\anaconda3\\lib\\site-packages\\pandas\\io\\parsers\\c_parser_wrapper.py\u001b[0m in \u001b[0;36m__init__\u001b[1;34m(self, src, **kwds)\u001b[0m\n\u001b[0;32m     49\u001b[0m \u001b[1;33m\u001b[0m\u001b[0m\n\u001b[0;32m     50\u001b[0m         \u001b[1;31m# open handles\u001b[0m\u001b[1;33m\u001b[0m\u001b[1;33m\u001b[0m\u001b[1;33m\u001b[0m\u001b[0m\n\u001b[1;32m---> 51\u001b[1;33m         \u001b[0mself\u001b[0m\u001b[1;33m.\u001b[0m\u001b[0m_open_handles\u001b[0m\u001b[1;33m(\u001b[0m\u001b[0msrc\u001b[0m\u001b[1;33m,\u001b[0m \u001b[0mkwds\u001b[0m\u001b[1;33m)\u001b[0m\u001b[1;33m\u001b[0m\u001b[1;33m\u001b[0m\u001b[0m\n\u001b[0m\u001b[0;32m     52\u001b[0m         \u001b[1;32massert\u001b[0m \u001b[0mself\u001b[0m\u001b[1;33m.\u001b[0m\u001b[0mhandles\u001b[0m \u001b[1;32mis\u001b[0m \u001b[1;32mnot\u001b[0m \u001b[1;32mNone\u001b[0m\u001b[1;33m\u001b[0m\u001b[1;33m\u001b[0m\u001b[0m\n\u001b[0;32m     53\u001b[0m \u001b[1;33m\u001b[0m\u001b[0m\n",
      "\u001b[1;32m~\\anaconda3\\lib\\site-packages\\pandas\\io\\parsers\\base_parser.py\u001b[0m in \u001b[0;36m_open_handles\u001b[1;34m(self, src, kwds)\u001b[0m\n\u001b[0;32m    227\u001b[0m             \u001b[0mmemory_map\u001b[0m\u001b[1;33m=\u001b[0m\u001b[0mkwds\u001b[0m\u001b[1;33m.\u001b[0m\u001b[0mget\u001b[0m\u001b[1;33m(\u001b[0m\u001b[1;34m\"memory_map\"\u001b[0m\u001b[1;33m,\u001b[0m \u001b[1;32mFalse\u001b[0m\u001b[1;33m)\u001b[0m\u001b[1;33m,\u001b[0m\u001b[1;33m\u001b[0m\u001b[1;33m\u001b[0m\u001b[0m\n\u001b[0;32m    228\u001b[0m             \u001b[0mstorage_options\u001b[0m\u001b[1;33m=\u001b[0m\u001b[0mkwds\u001b[0m\u001b[1;33m.\u001b[0m\u001b[0mget\u001b[0m\u001b[1;33m(\u001b[0m\u001b[1;34m\"storage_options\"\u001b[0m\u001b[1;33m,\u001b[0m \u001b[1;32mNone\u001b[0m\u001b[1;33m)\u001b[0m\u001b[1;33m,\u001b[0m\u001b[1;33m\u001b[0m\u001b[1;33m\u001b[0m\u001b[0m\n\u001b[1;32m--> 229\u001b[1;33m             \u001b[0merrors\u001b[0m\u001b[1;33m=\u001b[0m\u001b[0mkwds\u001b[0m\u001b[1;33m.\u001b[0m\u001b[0mget\u001b[0m\u001b[1;33m(\u001b[0m\u001b[1;34m\"encoding_errors\"\u001b[0m\u001b[1;33m,\u001b[0m \u001b[1;34m\"strict\"\u001b[0m\u001b[1;33m)\u001b[0m\u001b[1;33m,\u001b[0m\u001b[1;33m\u001b[0m\u001b[1;33m\u001b[0m\u001b[0m\n\u001b[0m\u001b[0;32m    230\u001b[0m         )\n\u001b[0;32m    231\u001b[0m \u001b[1;33m\u001b[0m\u001b[0m\n",
      "\u001b[1;32m~\\anaconda3\\lib\\site-packages\\pandas\\io\\common.py\u001b[0m in \u001b[0;36mget_handle\u001b[1;34m(path_or_buf, mode, encoding, compression, memory_map, is_text, errors, storage_options)\u001b[0m\n\u001b[0;32m    705\u001b[0m                 \u001b[0mencoding\u001b[0m\u001b[1;33m=\u001b[0m\u001b[0mioargs\u001b[0m\u001b[1;33m.\u001b[0m\u001b[0mencoding\u001b[0m\u001b[1;33m,\u001b[0m\u001b[1;33m\u001b[0m\u001b[1;33m\u001b[0m\u001b[0m\n\u001b[0;32m    706\u001b[0m                 \u001b[0merrors\u001b[0m\u001b[1;33m=\u001b[0m\u001b[0merrors\u001b[0m\u001b[1;33m,\u001b[0m\u001b[1;33m\u001b[0m\u001b[1;33m\u001b[0m\u001b[0m\n\u001b[1;32m--> 707\u001b[1;33m                 \u001b[0mnewline\u001b[0m\u001b[1;33m=\u001b[0m\u001b[1;34m\"\"\u001b[0m\u001b[1;33m,\u001b[0m\u001b[1;33m\u001b[0m\u001b[1;33m\u001b[0m\u001b[0m\n\u001b[0m\u001b[0;32m    708\u001b[0m             )\n\u001b[0;32m    709\u001b[0m         \u001b[1;32melse\u001b[0m\u001b[1;33m:\u001b[0m\u001b[1;33m\u001b[0m\u001b[1;33m\u001b[0m\u001b[0m\n",
      "\u001b[1;31mFileNotFoundError\u001b[0m: [Errno 2] No such file or directory: 'data_california_house.csv'"
     ]
    }
   ],
   "source": [
    "# Load dataset\n",
    "df = pd.concat([pd.read_csv('data_california_house.csv'), pd.read_csv('Data_JALAN_KOTA_DAERAH.csv')], axis = 1)\n",
    "df.head()"
   ]
  },
  {
   "cell_type": "markdown",
   "id": "ef5ef8cb-5464-464e-bb2f-b97bde43e000",
   "metadata": {},
   "source": [
    "Menggabungkan dataset ```data_california_house.csv``` dan ```Data_JALAN_KOTA_DAERAH.csv```"
   ]
  },
  {
   "cell_type": "code",
   "execution_count": null,
   "id": "1ba5cf8f-b259-4591-afa8-e57e5bea11e1",
   "metadata": {},
   "outputs": [],
   "source": [
    "df.info()"
   ]
  },
  {
   "cell_type": "markdown",
   "id": "520855e4-00ac-424a-88a7-bc90c28adc43",
   "metadata": {
    "tags": []
   },
   "source": [
    "> ## Drop Feature Unamed : 0 dan state"
   ]
  },
  {
   "cell_type": "markdown",
   "id": "b6388981-9928-4032-a30c-9b9160379a31",
   "metadata": {},
   "source": [
    "feature ```Unamed : 0``` akan di drop karena feature ini terbentuk karena nomer index dari dataset ```Data_JALAN_KOTA_DAERAH.csv```, sehingga feature tidak memberikan informasi apapun"
   ]
  },
  {
   "cell_type": "code",
   "execution_count": null,
   "id": "a14209c2-e1db-4e29-8404-3137000ef63f",
   "metadata": {
    "tags": []
   },
   "outputs": [],
   "source": [
    "df.drop('Unnamed: 0', axis = 1, inplace = True)"
   ]
  },
  {
   "cell_type": "code",
   "execution_count": null,
   "id": "2d9018d5-8746-4b61-8b2e-89549fb39d10",
   "metadata": {},
   "outputs": [],
   "source": [
    "df['state'].value_counts()"
   ]
  },
  {
   "cell_type": "markdown",
   "id": "1031c822-26fb-4548-8948-e849bbad96d2",
   "metadata": {},
   "source": [
    "feature ```State``` akan di drop karena feature ini berisi lokasi negara dari longtitude dan latitude, karena dataset ```data_california_house.csv``` di hasilkan dari hasil sensus 1990 di negara california. jadi saya asumsikan 3 lokasi yang selain california adalah di perbatasan california dan masih masuk daerah california. jadi feature ini hanya berisi 1 informasi yaitu lokasi bertempat di negara california saja"
   ]
  },
  {
   "cell_type": "code",
   "execution_count": null,
   "id": "2f2fb472-3f94-44d4-8811-adeaab145284",
   "metadata": {},
   "outputs": [],
   "source": [
    "df.drop('state', axis = 1, inplace = True)"
   ]
  },
  {
   "cell_type": "code",
   "execution_count": null,
   "id": "d0b8b3f2-4528-4d84-a871-2d03f838f270",
   "metadata": {},
   "outputs": [],
   "source": [
    "print(df.info())"
   ]
  },
  {
   "cell_type": "markdown",
   "id": "aa6ede55-666d-4609-ba0c-a0f297178f91",
   "metadata": {},
   "source": [
    "Dilihat dari Dtypenya tidak ada feature yang memiliki kesalahan Dtype\n",
    "\n",
    "Dilihat dari jumlah non-null Beberapa Feature sekilas memiliki data null atau missing value"
   ]
  },
  {
   "cell_type": "markdown",
   "id": "32d3cb20-e79a-4dc9-b472-249a7655e197",
   "metadata": {},
   "source": [
    "> ## Cleaning Data\n",
    "Check Missing Value"
   ]
  },
  {
   "cell_type": "code",
   "execution_count": null,
   "id": "91e3eade-ac98-4d2a-a1de-992bf1702fe3",
   "metadata": {
    "tags": []
   },
   "outputs": [],
   "source": [
    "print('Jumlah Missing Value \\nJumlah Data = 14448')\n",
    "print(df.isna().sum())\n",
    "print('\\n----Persen Missing Value----')\n",
    "print(df.isna().sum()/len(df)*100)"
   ]
  },
  {
   "cell_type": "markdown",
   "id": "a92e6805-0c5a-460b-8969-9e81525e6bbb",
   "metadata": {},
   "source": [
    "beberapa feature yang memiliki missing value dan jumlah missing valuenya sebagai berikut : \n",
    "1. total_bedrooms ----- 137\n",
    "2. road --------------- 732\n",
    "3. county ------------- 387\n",
    "4. city --------------- 5858"
   ]
  },
  {
   "cell_type": "markdown",
   "id": "af8394d7-7fde-4825-bb52-2a351762b785",
   "metadata": {},
   "source": [
    "> ## Handling Missing Value\n",
    "```total_bedrooms```"
   ]
  },
  {
   "cell_type": "code",
   "execution_count": null,
   "id": "c5b41205-fcff-4ece-8f5e-288f5da3a3ca",
   "metadata": {},
   "outputs": [],
   "source": [
    "df[df['total_bedrooms'].isna() == True]"
   ]
  },
  {
   "cell_type": "code",
   "execution_count": null,
   "id": "18d99839-cf8a-48bd-8fd4-41bad641463b",
   "metadata": {},
   "outputs": [],
   "source": [
    "df['total_bedrooms'].tail()"
   ]
  },
  {
   "cell_type": "markdown",
   "id": "78844cf7-69a0-493d-826e-91aab683dc54",
   "metadata": {},
   "source": [
    "## Check Oulier pada feature ```total_bedrooms```"
   ]
  },
  {
   "cell_type": "code",
   "execution_count": null,
   "id": "6191a98b-7229-4171-b5fa-a79407f4ee5b",
   "metadata": {},
   "outputs": [],
   "source": [
    "sns.boxplot(df['total_bedrooms'])\n",
    "plt.title(\"Outlier Total_Bedrooms\",size=16)"
   ]
  },
  {
   "cell_type": "code",
   "execution_count": null,
   "id": "32585369-346a-4e47-9978-fec71feb3783",
   "metadata": {},
   "outputs": [],
   "source": [
    "df['total_bedrooms'].describe()"
   ]
  },
  {
   "cell_type": "code",
   "execution_count": null,
   "id": "b0813500-44a0-4456-bc58-dd74fb8c442b",
   "metadata": {},
   "outputs": [],
   "source": [
    "Q1_bedrooms = df['total_bedrooms'].quantile(0.25)\n",
    "Q3_bedrooms = df['total_bedrooms'].quantile(0.75)\n",
    "IQR_bedrooms = Q3_bedrooms - Q1_bedrooms\n",
    "print(IQR_bedrooms)"
   ]
  },
  {
   "cell_type": "code",
   "execution_count": null,
   "id": "acf11441-2573-4ba4-88d1-69f4d6949982",
   "metadata": {},
   "outputs": [],
   "source": [
    "oulier_bedrooms = df['total_bedrooms'][df['total_bedrooms'] < (Q1_bedrooms - 1.5 * IQR_bedrooms)] + df['total_bedrooms'][df['total_bedrooms'] > (1.5 * IQR_bedrooms + Q3_bedrooms)]\n",
    "print(f'Batas bawah = {Q1_bedrooms - 1.5 * IQR_bedrooms}(sama dengan 0 karena tidak ada data di bawah 0)')\n",
    "print(f'Batas atas = {1.5 * IQR_bedrooms + Q3_bedrooms}')\n",
    "len(oulier_bedrooms)"
   ]
  },
  {
   "cell_type": "markdown",
   "id": "b8fe5e72-e85b-4a36-9063-392c5d1ab81c",
   "metadata": {},
   "source": [
    "Karena feature ```total_bedrooms``` memiliki cukup banyak outlier jadi untuk menggisi nilai nan menjadi **Median** dari ```total_bedrooms```"
   ]
  },
  {
   "cell_type": "markdown",
   "id": "83902a39-a380-4396-b7b4-6541ea67eea2",
   "metadata": {},
   "source": [
    "## Handling Missing Value ```total_bedrooms```"
   ]
  },
  {
   "cell_type": "code",
   "execution_count": null,
   "id": "38be2ea8-389a-4471-9e4d-6e888a0900d6",
   "metadata": {},
   "outputs": [],
   "source": [
    "df['total_bedrooms'].fillna(df['total_bedrooms'].median(), inplace=True)\n",
    "print(df.isnull().sum())\n",
    "print('5 Baris akhir feature total_bedrooms setelah handle missing value')\n",
    "print(df['total_bedrooms'].tail())"
   ]
  },
  {
   "cell_type": "markdown",
   "id": "25216333-2372-4fe4-a35e-520de4610c2d",
   "metadata": {},
   "source": [
    "> ## Handling Missing Value\n",
    "```road```, ```county```, dan ```city```"
   ]
  },
  {
   "cell_type": "code",
   "execution_count": null,
   "id": "0d74cd7b-1a5c-4973-ac5f-543cc12547e6",
   "metadata": {},
   "outputs": [],
   "source": [
    "# Missing value heatmap\n",
    "sns.heatmap(df.isnull(), cbar=False);\n",
    "plt.title('Heatmap Missing Value \\n road, county, dan city')"
   ]
  },
  {
   "cell_type": "code",
   "execution_count": null,
   "id": "d6174e95-9be9-4047-b1da-7706865ea7f2",
   "metadata": {},
   "outputs": [],
   "source": [
    "df[df['county'].isna() == True][['road', 'county','city']]"
   ]
  },
  {
   "cell_type": "code",
   "execution_count": null,
   "id": "06bf4d8b-60d6-467b-a9e4-1228fe6a1791",
   "metadata": {},
   "outputs": [],
   "source": [
    "df[df['county'].isna() == True][['city']].value_counts()"
   ]
  },
  {
   "cell_type": "code",
   "execution_count": null,
   "id": "776df277-814a-4e19-a996-e67b2edfbc4a",
   "metadata": {},
   "outputs": [],
   "source": [
    "df['county'].isna().sum()"
   ]
  },
  {
   "cell_type": "code",
   "execution_count": null,
   "id": "c3e5e73c-864b-4dc7-9e5e-664e381fb116",
   "metadata": {},
   "outputs": [],
   "source": [
    "df[(df['county'].isna()) & (df['city'] == 'San Francisco')]"
   ]
  },
  {
   "cell_type": "markdown",
   "id": "903ba07c-fcc2-4cea-bd6d-2d30073dd70c",
   "metadata": {},
   "source": [
    "Pada feature ```road```, ```county```, dan ```city```. ketiga feature ini memiliki informasi yang sama yaitu lokasi dari perumahan sedangkan saya hanya membutuhkan 1 feature saja yang memberi informasi lokasi dari perumahan.\n",
    "sehingga saya memutuskan hanya menggunakan feature ```county``` karena beberapa alasan :\n",
    "1. bila di lihat dari missing valuenya yang memiliki missing value terkecil adalah feature ```county```, \n",
    "2. feature ```road``` adalah feature yang menginformasikan nama jalan dari lokasi sehingga menghasilkan banyak kategori\n",
    "\n",
    "Uniknya dari setiap missing value pada feature ```county``` memiliki nilai yang sama pada feature ```city``` yaitu **San Francisco** jadi saya asumsikan bahwa bahwa missing value memiliki nilai daerah di San Fransisco, sehingga saya akan mengisi missing value pada feature ```county``` dengan nilai **San Fransisco**"
   ]
  },
  {
   "cell_type": "code",
   "execution_count": null,
   "id": "abb12556-da91-46e2-99eb-510489ab3aa0",
   "metadata": {},
   "outputs": [],
   "source": [
    "df.drop(['city', 'road'], axis = 1, inplace = True)"
   ]
  },
  {
   "cell_type": "code",
   "execution_count": null,
   "id": "ae258b44-59d6-4c18-8901-d41f91934dc6",
   "metadata": {},
   "outputs": [],
   "source": [
    "df['county'].fillna('San Fransisco', inplace=True)\n",
    "print(df.isnull().sum())"
   ]
  },
  {
   "cell_type": "code",
   "execution_count": null,
   "id": "584d060a-c95a-48d9-bb10-486ada369f92",
   "metadata": {},
   "outputs": [],
   "source": [
    "df = df[['ocean_proximity', 'county', 'longitude', 'latitude', 'housing_median_age', 'total_rooms', 'total_bedrooms', 'population', 'households', 'median_income', 'median_house_value']]"
   ]
  },
  {
   "cell_type": "markdown",
   "id": "e6acb678-d5a4-4b7b-95d4-d39720e8c0c6",
   "metadata": {},
   "source": [
    "Saya melakukan perubahan posisi feature agar mempermudah analisa kedepannya"
   ]
  },
  {
   "cell_type": "markdown",
   "id": "aa19c2a4-a16a-4fa8-94e0-925a77919488",
   "metadata": {
    "toc-hr-collapsed": true
   },
   "source": [
    "# Exploration Data Analysis"
   ]
  },
  {
   "cell_type": "markdown",
   "id": "187225f6-0f0f-41dd-901f-38d62b936bd7",
   "metadata": {},
   "source": [
    "> ## Distribusition of the households owner"
   ]
  },
  {
   "cell_type": "code",
   "execution_count": null,
   "id": "dd35731d-d880-4b61-a1f2-7d8dd8dd91a8",
   "metadata": {},
   "outputs": [],
   "source": [
    "plt.figure(figsize=(12,12))\n",
    "img=plt.imread('california.png')\n",
    "plt.imshow(img,zorder=0,extent=[-124.35,-114.2,32.54,41.95])\n",
    "sns.scatterplot(data = df, x = 'longitude',y = 'latitude', hue = 'ocean_proximity', s=df['population']/30)\n",
    "plt.title(\"Distribution of Population with ocean proximity\",size=16)"
   ]
  },
  {
   "cell_type": "code",
   "execution_count": null,
   "id": "1ce887c8-b93a-400f-a7e4-b8df31e52bb2",
   "metadata": {},
   "outputs": [],
   "source": [
    "plt.figure(figsize=(20,15))\n",
    "img=plt.imread('california.png')\n",
    "plt.imshow(img,zorder=0,extent=[-124.35,-114.2,32.54,41.95])\n",
    "sns.scatterplot(data = df, x = 'longitude',y = 'latitude', hue = 'county', s=df['population']/30)\n",
    "plt.title(\"Distribution of Population with county\",size=16)"
   ]
  },
  {
   "cell_type": "code",
   "execution_count": null,
   "id": "a11d09b6-40ef-4ba7-81eb-cec9c240a805",
   "metadata": {},
   "outputs": [],
   "source": [
    "plt.figure(figsize=(12,12))\n",
    "img=plt.imread('california.png')\n",
    "plt.imshow(img,zorder=0,extent=[-124.35,-114.2,32.54,41.95])\n",
    "\n",
    "plt.scatter(x=df['longitude'],y=df['latitude'],alpha=0.3,s=df['population']/25,c=df['median_house_value'],\n",
    "            cmap=plt.get_cmap(\"jet\"),zorder=1,label='Population')\n",
    "plt.colorbar()\n",
    "plt.title(\"Distribution of Population with housing price\",size=16)\n",
    "plt.legend()"
   ]
  },
  {
   "cell_type": "markdown",
   "id": "c40dbfb4-f369-436a-ad0f-5867470def97",
   "metadata": {},
   "source": [
    "Dari 3 plot di atas dapat di simpulkan bahwa :\n",
    "1. Harga rumah sangat terpengaruh oleh lokasi dan kepadatan penduduknya\n",
    "1. Tidak semua rumah yang berlokasi dekat dengan laut memiliki harga yang tinggi"
   ]
  },
  {
   "cell_type": "code",
   "execution_count": null,
   "id": "d2c73fdb-d1ce-46ef-8244-02eb0fe3bd98",
   "metadata": {},
   "outputs": [],
   "source": [
    "df.groupby('county').max().sort_values('median_house_value', ascending = False)"
   ]
  },
  {
   "cell_type": "code",
   "execution_count": null,
   "id": "8dc176e7-fab9-4cf8-b34d-82f1d32d56dd",
   "metadata": {},
   "outputs": [],
   "source": [
    "df.groupby('ocean_proximity').max().sort_values('median_house_value', ascending = False)"
   ]
  },
  {
   "cell_type": "markdown",
   "id": "1c6a0a44-a493-4f91-9ce9-719e631be109",
   "metadata": {},
   "source": [
    "Dari Compare 2 tabel di atas saya asumsikan tidak semua rumah yang lokasinya dekat dengan laut memiliki harga yang tinggi dan tidak semua rumah yang lokasinya jauh memiliki harga yang relatif "
   ]
  },
  {
   "cell_type": "markdown",
   "id": "3be46b95-f7d8-4037-a2eb-5012d452e9a8",
   "metadata": {},
   "source": [
    "> ## Data Correlation"
   ]
  },
  {
   "cell_type": "code",
   "execution_count": null,
   "id": "ad840b2a-2302-4bc0-8b4e-3ea7bc642b5c",
   "metadata": {},
   "outputs": [],
   "source": [
    "df.corr()"
   ]
  },
  {
   "cell_type": "code",
   "execution_count": null,
   "id": "723f2558-2cf0-4e0e-8677-746fd46a393e",
   "metadata": {},
   "outputs": [],
   "source": [
    "# Correlation matrix\n",
    "plt.figure(figsize=(15, 15))\n",
    "palette = sns.color_palette(\"GnBu\", as_cmap=True)\n",
    "corr = df.corr(method='pearson')\n",
    "sns.heatmap(corr, annot=True, fmt='.2f', square=True, linewidths=.5, cmap = palette)\n",
    "plt.title('Correlation Matrix', size=15, weight='bold')"
   ]
  },
  {
   "cell_type": "code",
   "execution_count": null,
   "id": "d6cfb5a7-2b59-468b-a7c3-d60429b97db3",
   "metadata": {},
   "outputs": [],
   "source": [
    "sns.pairplot(df[['housing_median_age','total_rooms','total_bedrooms','population','households','median_income','median_house_value']])\n",
    "plt.title('Pair Plot antar Feature')"
   ]
  },
  {
   "cell_type": "code",
   "execution_count": null,
   "id": "94b996a1-41d8-4bcb-a932-cc6b95771c7c",
   "metadata": {},
   "outputs": [],
   "source": [
    "corr_matrix = df.corr()\n",
    "corr_matrix['median_house_value'].sort_values(ascending=False)"
   ]
  },
  {
   "cell_type": "markdown",
   "id": "2209d58a-617b-4d00-8a29-17222f49a7d9",
   "metadata": {},
   "source": [
    "Dari plot correlation matrix di atas terlihat bahwa hanya feature ```median_income``` saja yang memiliki nilai korelasi yang cukup tinggi terhadap feature ```median_house_value```. dimana korelasinya adalah positif dimana tiap kenaikan ```median_income``` semakin meningkat pula niali ```median_house_value``` atau semakin tinggi pendapatan penduduk akan semakin tinggi harga rumah di daerah tersebut."
   ]
  },
  {
   "cell_type": "markdown",
   "id": "9cf962b5-75f8-4034-81df-d1cb932caf2f",
   "metadata": {},
   "source": [
    "> ## Outlier"
   ]
  },
  {
   "cell_type": "code",
   "execution_count": null,
   "id": "75a4c6b8-a8b7-44b8-92c7-61e90ac9dd39",
   "metadata": {},
   "outputs": [],
   "source": [
    "hist_b_ho = df.hist(bins=50,figsize=(16,12))\n",
    "hist_b_ho"
   ]
  },
  {
   "cell_type": "code",
   "execution_count": null,
   "id": "76ca8367-022c-450e-9e74-a4d3845f4696",
   "metadata": {},
   "outputs": [],
   "source": [
    "num_feat = ['housing_median_age', 'total_rooms',\n",
    "        'total_bedrooms', 'population', 'households', 'median_income',\n",
    "        'median_house_value']"
   ]
  },
  {
   "cell_type": "code",
   "execution_count": null,
   "id": "1a6afb9d-be38-48cc-a2a4-861d3b274e35",
   "metadata": {},
   "outputs": [],
   "source": [
    "def find_outlier(df, feature):\n",
    "    print('Outlier ' + feature)\n",
    "    q1 = df[feature].quantile(0.25)\n",
    "    q3 = df[feature].quantile(0.75)\n",
    "    iqr = q3 - q1\n",
    "    limit = iqr*1.5\n",
    "    print(f'IQR: {iqr}')\n",
    "\n",
    "    limit_bawah = q1 - limit\n",
    "    limit_atas = q3 + limit\n",
    "    print(f'limit_bawah: {limit_bawah}')\n",
    "    print(f'limit_atas: {limit_atas}')\n",
    "    print('_________________________')"
   ]
  },
  {
   "cell_type": "code",
   "execution_count": null,
   "id": "120640d4-a023-4633-8979-4c5e866814ab",
   "metadata": {},
   "outputs": [],
   "source": [
    "find_outlier(df,\"housing_median_age\")"
   ]
  },
  {
   "cell_type": "code",
   "execution_count": null,
   "id": "01e4b617-c8cc-485d-ac3c-f4d058fc234b",
   "metadata": {},
   "outputs": [],
   "source": [
    "for i in num_feat :\n",
    "    find_outlier(df, i)"
   ]
  },
  {
   "cell_type": "code",
   "execution_count": null,
   "id": "de8b5d54-6b9b-42e8-924f-e052216803bc",
   "metadata": {},
   "outputs": [],
   "source": [
    "out1 = df[df['housing_median_age'] >= 65.5]\n",
    "out2 = df[df['total_rooms'] > 5693.5]\n",
    "out3 = df[df['total_bedrooms'] > 1168.5]\n",
    "out4 = df[df['population'] > 3134.0]\n",
    "out5 = df[df['households'] > 1091.5]\n",
    "out6 = df[df['median_income'] > 7.984350000000001]\n",
    "out7 = df[df['median_house_value'] > 480350.0]"
   ]
  },
  {
   "cell_type": "code",
   "execution_count": null,
   "id": "f0f26e69-6dba-45f7-a3e6-49aa05716cb8",
   "metadata": {},
   "outputs": [],
   "source": [
    "out_all = pd.concat([out1, out2, out3, out4, out5, out6, out7], axis = 0)\n",
    "out_all.drop_duplicates(inplace=True)"
   ]
  },
  {
   "cell_type": "code",
   "execution_count": null,
   "id": "2fa9d458-9341-44ad-97f9-1ad7d708516d",
   "metadata": {},
   "outputs": [],
   "source": [
    "out_all"
   ]
  },
  {
   "cell_type": "code",
   "execution_count": null,
   "id": "19a7decf-29d4-479c-9a07-24e19b9c3d6c",
   "metadata": {},
   "outputs": [],
   "source": [
    "out_all.info()"
   ]
  },
  {
   "cell_type": "code",
   "execution_count": null,
   "id": "c07d1d55-75db-43e8-8d7d-4e8700121daf",
   "metadata": {},
   "outputs": [],
   "source": [
    "print('Persentage Outlier')\n",
    "len(out_all)/len(df)*100"
   ]
  },
  {
   "cell_type": "markdown",
   "id": "6792c6cc-eb08-4ec6-8e5c-3434d7d0776f",
   "metadata": {},
   "source": [
    "Dari pengecekan outlier di atas kita mendapatkan hasil Total outlier adalah 1285 atau 14.5% dari total data\n",
    "\n",
    "Bila semua outlier di drop akan sangat banyak data yang hilang, oleh sebab itu saya memutuskan untuk menghapus beberapa outlier yang memiliki nilai yang relatif tinggi di banding data lain. outlier yang akan di hilangkan akan di interpretasikan pada boxplot di bawah ini"
   ]
  },
  {
   "cell_type": "code",
   "execution_count": null,
   "id": "e58481fa-1c50-4d39-8228-139dbefd2dde",
   "metadata": {},
   "outputs": [],
   "source": [
    "hist_a_ho = df.hist(bins=50,figsize=(16,12))\n",
    "hist_a_ho\n",
    "plt.show()"
   ]
  },
  {
   "cell_type": "code",
   "execution_count": null,
   "id": "e2a0713d-2958-4219-889d-1663c8237132",
   "metadata": {},
   "outputs": [],
   "source": [
    "plt.figure(figsize=(25,10))\n",
    "plt.subplot(2,4,1)\n",
    "sns.boxplot(df['housing_median_age'])\n",
    "plt.subplot(2,4,2)\n",
    "sns.boxplot(df['total_rooms'])\n",
    "plt.plot([7500, 7500], [-0.4, 0.4], linewidth=3, c='r')\n",
    "plt.subplot(2,4,3)\n",
    "sns.boxplot(df['total_bedrooms'])\n",
    "plt.plot([1500, 1500], [-0.4, 0.4], linewidth=3, c='r')\n",
    "plt.subplot(2,4,4)\n",
    "sns.boxplot(df['population'])\n",
    "plt.plot([5000, 5000], [-0.4, 0.4], linewidth=3, c='r')\n",
    "plt.subplot(2,4,5)\n",
    "sns.boxplot(df['households'])\n",
    "plt.plot([1500, 1500], [-0.4, 0.4], linewidth=3, c='r')\n",
    "plt.subplot(2,4,6)\n",
    "sns.boxplot(df['median_income'])\n",
    "plt.plot([8, 8], [-0.4, 0.4], linewidth=3, c='r')\n",
    "plt.subplot(2,4,7)\n",
    "sns.boxplot(df['median_house_value'])\n",
    "plt.plot([500000, 500000], [-0.4, 0.4], linewidth=3, c='r')\n",
    "plt.show()"
   ]
  },
  {
   "cell_type": "markdown",
   "id": "117eaae1-379e-4b9c-bbd5-febfbc81740b",
   "metadata": {},
   "source": [
    "Outlier yang akan di hilangkan adalah outlier yang melebihi garis merah karena memiliki jarak antar data yang relatif tinggi, untuk feature median house value di batasi sampai value 500.000, untuk membatasi model prediksi."
   ]
  },
  {
   "cell_type": "code",
   "execution_count": null,
   "id": "37bacbbe-a9fc-437b-837f-b5e23883e685",
   "metadata": {},
   "outputs": [],
   "source": [
    "out1 = df[df['total_rooms'] > 7500]\n",
    "out2 = df[df['total_bedrooms'] > 1500]\n",
    "out3 = df[df['population'] > 5000]\n",
    "out4 = df[df['households'] > 1500]\n",
    "out5 = df[df['median_income'] > 8]\n",
    "out6 = df[df['median_house_value'] > 500000]\n",
    "\n",
    "out_all = pd.concat([out1, out2, out3, out4, out5, out6], axis = 0)\n",
    "out_all.drop_duplicates(inplace=True)"
   ]
  },
  {
   "cell_type": "code",
   "execution_count": null,
   "id": "2e12f9f2-b55c-405f-9602-2505d87d5a43",
   "metadata": {},
   "outputs": [],
   "source": [
    "out_all"
   ]
  },
  {
   "cell_type": "code",
   "execution_count": null,
   "id": "b39f823c-4788-4ee1-abef-fb73d39506f2",
   "metadata": {},
   "outputs": [],
   "source": [
    "out_all.info()"
   ]
  },
  {
   "cell_type": "code",
   "execution_count": null,
   "id": "f099d951-9a8e-4fda-83c6-56015cf3c8e6",
   "metadata": {},
   "outputs": [],
   "source": [
    "print('Persentage Outlier')\n",
    "len(out_all)/len(df)*100"
   ]
  },
  {
   "cell_type": "markdown",
   "id": "a59fc245-bd68-4f25-9fb8-7a750afa7250",
   "metadata": {},
   "source": [
    "Dari pengecekan outlier yang akan dihilangkan di atas kita mendapatkan hasil Total outlier yang akan dihilangkan adalah 1393 atau 9.64% dari total data"
   ]
  },
  {
   "cell_type": "markdown",
   "id": "135e9f3b-86ce-44a0-b4de-d626dd74a934",
   "metadata": {},
   "source": [
    "> ## Handling Outlier\n",
    "drop all outlier"
   ]
  },
  {
   "cell_type": "code",
   "execution_count": null,
   "id": "eb50a3b7-3e4f-4c48-84f0-aa9fe26addd9",
   "metadata": {},
   "outputs": [],
   "source": [
    "df.drop(out_all.index, axis = 0, inplace = True)"
   ]
  },
  {
   "cell_type": "code",
   "execution_count": null,
   "id": "59f10b7e-942b-486d-aa1d-33f6b6538a6f",
   "metadata": {},
   "outputs": [],
   "source": [
    "df.info()"
   ]
  },
  {
   "cell_type": "code",
   "execution_count": null,
   "id": "d697f200-c1e4-4e8a-a702-bf6f92980fcc",
   "metadata": {},
   "outputs": [],
   "source": [
    "hist_a_ho = df.hist(bins=50,figsize=(16,12))\n",
    "hist_a_ho\n",
    "plt.show()"
   ]
  },
  {
   "cell_type": "markdown",
   "id": "7691bb78-5cfa-4598-9f42-811f8ca10f87",
   "metadata": {},
   "source": [
    "Terlihat dari tabel distribusi diatas bahwa pengurangan data yang outlier dapat membuat data menjadi lebih terdistribusi normal dari pada data sebelumnya"
   ]
  },
  {
   "cell_type": "markdown",
   "id": "3442bdc4-46e0-4bf7-9674-de103b3ff1fe",
   "metadata": {
    "tags": [],
    "toc-hr-collapsed": true
   },
   "source": [
    "# Modeling"
   ]
  },
  {
   "cell_type": "markdown",
   "id": "39fdb25b-5c89-42ed-9b98-c6d3e0a82f81",
   "metadata": {},
   "source": [
    "> ## Benchmark Model"
   ]
  },
  {
   "cell_type": "code",
   "execution_count": null,
   "id": "e99b6c08-a22a-42e3-8cca-a42f570ca5ab",
   "metadata": {},
   "outputs": [],
   "source": [
    "# Import library untuk modeling\n",
    "\n",
    "from sklearn.model_selection import train_test_split, cross_val_score, RandomizedSearchCV, GridSearchCV, KFold, StratifiedKFold\n",
    "\n",
    "import category_encoders as ce\n",
    "from sklearn.preprocessing import OneHotEncoder, StandardScaler\n",
    "from sklearn.compose import ColumnTransformer\n",
    "from sklearn.pipeline import Pipeline\n",
    "from category_encoders import BinaryEncoder\n",
    "from sklearn.linear_model import LinearRegression, Lasso, Ridge\n",
    "from sklearn.neighbors import KNeighborsRegressor\n",
    "from sklearn.tree import DecisionTreeRegressor\n",
    "from sklearn.ensemble import RandomForestRegressor, AdaBoostRegressor, GradientBoostingRegressor\n",
    "from xgboost.sklearn import XGBRegressor\n",
    "from sklearn.compose import TransformedTargetRegressor\n",
    "\n",
    "from sklearn.metrics import r2_score, mean_squared_error, mean_absolute_error, mean_absolute_percentage_error, f1_score"
   ]
  },
  {
   "cell_type": "code",
   "execution_count": null,
   "id": "8f147a68-10e6-4828-bdd1-e880edac23e0",
   "metadata": {},
   "outputs": [],
   "source": [
    "df.info()"
   ]
  },
  {
   "cell_type": "code",
   "execution_count": null,
   "id": "153c72db-604a-48fc-8985-118acc091270",
   "metadata": {
    "tags": []
   },
   "outputs": [],
   "source": [
    "df.describe(include = 'all')"
   ]
  },
  {
   "cell_type": "markdown",
   "id": "2c2ece82-75a4-42e6-b4ce-b70f1dac6c97",
   "metadata": {},
   "source": [
    "Processing Scheme\n",
    "\n",
    "1. target : median_hausing_value\n",
    "1. BinaryEncoder : county\n",
    "1. RobustScaler : housing_median_age, total_rooms, total_bedrooms, population, households, median_income\n",
    "1. Out : longitude, latitude, ocean_proximity\n",
    "    - karena latitude longitude dan ocean_proximity adalah feature yang informasikan tentang lokasi, untuk feature yang memiliki informasi tentang lokasi akan di interpretasikan oleh feature county"
   ]
  },
  {
   "cell_type": "code",
   "execution_count": null,
   "id": "53262d74-abfc-4947-9ce6-1178295e3d30",
   "metadata": {},
   "outputs": [],
   "source": [
    "X = df.drop(['median_house_value', 'longitude', 'latitude', 'ocean_proximity'], axis = 1)\n",
    "y = df['median_house_value']"
   ]
  },
  {
   "cell_type": "code",
   "execution_count": null,
   "id": "5ae736ce-d3b5-43e4-89fd-cc8032db5999",
   "metadata": {},
   "outputs": [],
   "source": [
    "X_train, X_test, y_train, y_test = train_test_split(\n",
    "                                    X, \n",
    "                                    y,\n",
    "                                    test_size = 0.3, \n",
    "                                    random_state = 2022)"
   ]
  },
  {
   "cell_type": "code",
   "execution_count": null,
   "id": "951e17b7-4e58-42b0-8d49-2239eda08d8b",
   "metadata": {},
   "outputs": [],
   "source": [
    "X_train"
   ]
  },
  {
   "cell_type": "code",
   "execution_count": null,
   "id": "96abf52a-c6e0-4981-b25c-77d180206d32",
   "metadata": {},
   "outputs": [],
   "source": [
    "onehot = OneHotEncoder()\n",
    "scaler = RobustScaler()\n",
    "binary = ce.BinaryEncoder()\n",
    "\n",
    "transformer = ColumnTransformer([\n",
    "                ('binary', binary, ['county']),\n",
    "                ('scaler', scaler, ['housing_median_age', 'total_rooms', 'total_bedrooms', 'population', 'households', 'median_income'])   \n",
    "], remainder = \"passthrough\")"
   ]
  },
  {
   "cell_type": "code",
   "execution_count": null,
   "id": "baaf8992-80d1-4170-899c-e4e429bf3f6b",
   "metadata": {},
   "outputs": [],
   "source": [
    "transformer"
   ]
  },
  {
   "cell_type": "code",
   "execution_count": null,
   "id": "e2fb9e5f-e431-4e56-a679-d025a24457ea",
   "metadata": {},
   "outputs": [],
   "source": [
    "# Define algoritma yang digunakan\n",
    "lr = LinearRegression()\n",
    "ls = Lasso(random_state = 2022)\n",
    "rd = Ridge(random_state = 2022)\n",
    "knn = KNeighborsRegressor()\n",
    "dt = DecisionTreeRegressor(random_state=2022)\n",
    "rf = RandomForestRegressor(random_state=2022)\n",
    "ab = AdaBoostRegressor(random_state = 2022)\n",
    "gbr = GradientBoostingRegressor(random_state = 2022)\n",
    "xgb = XGBRegressor(random_state=2022)"
   ]
  },
  {
   "cell_type": "code",
   "execution_count": null,
   "id": "617383a6-de41-4c8d-8423-1a3db223ac57",
   "metadata": {},
   "outputs": [],
   "source": [
    "# Pemodelan dilakukan dalam skala logaritmik, namun kemudian di-inverse kembali untuk interpretasi\n",
    "log_lr = TransformedTargetRegressor(lr, func=np.log, inverse_func=np.exp)\n",
    "log_ls = TransformedTargetRegressor(ls, func=np.log, inverse_func=np.exp)\n",
    "log_rd = TransformedTargetRegressor(rd, func=np.log, inverse_func=np.exp)\n",
    "log_knn = TransformedTargetRegressor(knn, func=np.log, inverse_func=np.exp)\n",
    "log_dt = TransformedTargetRegressor(dt, func=np.log, inverse_func=np.exp)\n",
    "log_rf = TransformedTargetRegressor(rf, func=np.log, inverse_func=np.exp)\n",
    "log_ab = TransformedTargetRegressor(ab, func=np.log, inverse_func=np.exp)\n",
    "log_gbr = TransformedTargetRegressor(gbr, func=np.log, inverse_func=np.exp)\n",
    "log_xgb = TransformedTargetRegressor(xgb, func=np.log, inverse_func=np.exp)\n",
    "list_model = {'Linier Regression' : log_lr, 'Lasso' : log_ls, 'Ridge' : log_rd, 'KNN' : log_knn, 'Decision Tree' : log_dt, 'Random Forest' : log_rf, 'AdaBoost' : log_ab, 'GradientBoost' : log_gbr, 'XGBoost' : log_xgb}"
   ]
  },
  {
   "cell_type": "code",
   "execution_count": null,
   "id": "5c215786-bcf1-4633-b376-31b5f4787b36",
   "metadata": {},
   "outputs": [],
   "source": [
    "score_RMSE = []\n",
    "nilai_mean_RMSE = []\n",
    "nilai_std_RMSE = []\n",
    "crossval = KFold(n_splits=5, shuffle=True, random_state=2022)\n",
    "def model_eval_RMSE(model, metric):\n",
    "    for i in model :\n",
    "        estimator = Pipeline([\n",
    "            ('transformer', transformer),\n",
    "            ('model', list_model[i])\n",
    "        ])\n",
    "        model_cv = np.sqrt(-cross_val_score(estimator, X_train, y_train, cv = crossval, scoring = metric, error_score='raise'))\n",
    "        score_RMSE.append(model_cv)\n",
    "        nilai_mean_RMSE.append(model_cv.mean())\n",
    "        nilai_std_RMSE.append(model_cv.std())"
   ]
  },
  {
   "cell_type": "code",
   "execution_count": null,
   "id": "54818916-f43d-49a7-8271-1ea97175a123",
   "metadata": {},
   "outputs": [],
   "source": [
    "model_eval_RMSE(list_model, 'neg_mean_squared_error')"
   ]
  },
  {
   "cell_type": "code",
   "execution_count": null,
   "id": "c1173000-ce0e-4859-8229-a7dd14fe7657",
   "metadata": {},
   "outputs": [],
   "source": [
    "score_MAE = []\n",
    "nilai_mean_MAE = []\n",
    "nilai_std_MAE = []\n",
    "crossval = KFold(n_splits=5, shuffle=True, random_state=2022)\n",
    "def model_eval_MAE(model, metric):\n",
    "    for i in model :\n",
    "        estimator = Pipeline([\n",
    "            ('transformer', transformer),\n",
    "            ('model', list_model[i])\n",
    "        ])\n",
    "        model_cv = (-cross_val_score(estimator, X_train, y_train, cv = crossval, scoring = metric, error_score='raise'))\n",
    "        score_MAE.append(model_cv)\n",
    "        nilai_mean_MAE.append(model_cv.mean())\n",
    "        nilai_std_MAE.append(model_cv.std())"
   ]
  },
  {
   "cell_type": "code",
   "execution_count": null,
   "id": "4b511b61-d650-433f-9112-eba6ebac1f0a",
   "metadata": {},
   "outputs": [],
   "source": [
    "model_eval_MAE(list_model, 'neg_mean_absolute_error')"
   ]
  },
  {
   "cell_type": "code",
   "execution_count": null,
   "id": "4c090f15-47fb-49ae-80b8-61087e9a1ba1",
   "metadata": {},
   "outputs": [],
   "source": [
    "pd.DataFrame({\n",
    "    'RMSE_Score' : score_RMSE,\n",
    "    'Mean_RMSE': nilai_mean_RMSE,\n",
    "    'Std_RMSE': nilai_std_RMSE,\n",
    "    'MAE_Score' : score_MAE,\n",
    "    'Mean_MAE': nilai_mean_MAE,\n",
    "    'Std_MAE': nilai_std_MAE\n",
    "}, index=list_model.keys())"
   ]
  },
  {
   "cell_type": "markdown",
   "id": "3b3d38f3-8fd3-4e4e-92b1-2786493a5726",
   "metadata": {},
   "source": [
    "ada 9 model yang di uji dalam pemilihan model :\n",
    "1. Linier Regression\t\n",
    "2. Lasso\n",
    "3. Ridge\n",
    "3. KNN\n",
    "4. Decision Tree\t\n",
    "5. Random Forest\t\n",
    "6. Adaptive Boost\n",
    "7. Gradient boost\n",
    "7. Extreme Boost\n",
    "\n",
    "2 model dengan hasil RMSE, dan MAE terbaik adalah :\n",
    "1. KNN\n",
    "2. Extreme Boost\n",
    "\n",
    "Selanjutnya 2 model terbaik akan di lakukan pengujuan dengan data test dan akan di lakukan hyperparameter tuning pada kedua model tsb"
   ]
  },
  {
   "cell_type": "markdown",
   "id": "1b712ef3-c76d-46e6-897d-9ef150be3070",
   "metadata": {},
   "source": [
    "> ## Benchmark 2 model terbaik dengan X_Test"
   ]
  },
  {
   "cell_type": "code",
   "execution_count": null,
   "id": "366136c4-75b0-4deb-8561-7f7af455a43a",
   "metadata": {},
   "outputs": [],
   "source": [
    "# Benchmark 2 model terbaik\n",
    "models = {\n",
    "    'KNN' : KNeighborsRegressor(),\n",
    "    'XGBoost': XGBRegressor(random_state=2022)\n",
    "}\n",
    "\n",
    "score_rmse = []\n",
    "score_mae = []\n",
    "score_mape = []\n",
    "score_r2 = [] \n",
    "\n",
    "# Prediksi pada test set\n",
    "for i in models:\n",
    "\n",
    "    model = Pipeline([\n",
    "        ('preprocessing', transformer),\n",
    "        ('model', models[i])\n",
    "        ])\n",
    "\n",
    "    model.fit(X_train, y_train)\n",
    "    y_pred = model.predict(X_test)\n",
    "    score_rmse.append(np.sqrt(mean_squared_error(y_test, y_pred)))\n",
    "    score_mae.append(mean_absolute_error(y_test, y_pred))\n",
    "    score_mape.append(mean_absolute_percentage_error(y_test, y_pred))\n",
    "    score_r2.append(r2_score(y_test, y_pred))\n",
    "\n",
    "score_before_tuning = pd.DataFrame({'RMSE': score_rmse, \n",
    "                                    'MAE': score_mae, \n",
    "                                    'MAPE': score_mape,\n",
    "                                    'R-Squared' : score_r2\n",
    "                                   }, index=models.keys())\n",
    "score_before_tuning"
   ]
  },
  {
   "cell_type": "markdown",
   "id": "e4c8eeb0-851b-4d3f-b961-0788f3124bf8",
   "metadata": {},
   "source": [
    "Dari hasil pengujian dengan data test terlihat KNN menguguli XGBoost di semua matric. tetapi untuk membuktikannya saya akan melakukan hyperparameter Tuning ke kedua modul untuk memastikan model mana yang memiliki performance terbaik"
   ]
  },
  {
   "cell_type": "markdown",
   "id": "d56bd727-ecdc-4921-9ad4-f171316b2d7d",
   "metadata": {
    "tags": [],
    "toc-hr-collapsed": true
   },
   "source": [
    "# Hyperparameter Tuning"
   ]
  },
  {
   "cell_type": "markdown",
   "id": "5fd8bbcd-d1a5-4ef0-813b-489628ceab95",
   "metadata": {},
   "source": [
    "> ## Hyperparameter Tuning KNN"
   ]
  },
  {
   "cell_type": "code",
   "execution_count": null,
   "id": "96c4e517-9863-43a0-8fcb-a23b6c4dd08f",
   "metadata": {},
   "outputs": [],
   "source": [
    "# Total Tetangga\n",
    "n_neighbors = list(np.arange(8, 21))\n",
    "\n",
    "# Bobot KNN\n",
    "weights = ['uniform', 'distance']\n",
    "\n",
    "# Jumlah daun\n",
    "leaf_size = list(np.arange(20, 41))\n",
    "\n",
    "# Algoritma KNN\n",
    "algorithm = ['auto', 'ball_tree', 'kd_tree', 'brute']\n",
    "\n",
    "# Hyperparam space XGboost\n",
    "hyperparam_space_knn = {\n",
    "    'model__n_neighbors': n_neighbors, \n",
    "    'model__weights': weights,\n",
    "    'model__leaf_size': leaf_size,\n",
    "    'model__algorithm': algorithm\n",
    "}"
   ]
  },
  {
   "cell_type": "code",
   "execution_count": null,
   "id": "41424999-d098-4fd4-aa55-5db9ebf03613",
   "metadata": {},
   "outputs": [],
   "source": [
    "model = KNeighborsRegressor()\n",
    "\n",
    "# Membuat algorithm chains\n",
    "estimator_knn = Pipeline([\n",
    "        ('preprocessing', transformer),\n",
    "        ('model', model)\n",
    "        ])\n",
    "\n",
    "crossval = KFold(n_splits=5, shuffle=True, random_state=1)\n",
    "\n",
    "# Hyperparameter tuning\n",
    "random_knn = RandomizedSearchCV(\n",
    "    estimator_knn, \n",
    "    param_distributions = hyperparam_space_knn,\n",
    "    n_iter = 50,\n",
    "    cv = crossval, \n",
    "    scoring = ['neg_root_mean_squared_error', 'neg_mean_absolute_error', 'neg_mean_absolute_percentage_error'], \n",
    "    n_jobs = -1,\n",
    "    refit = 'neg_root_mean_squared_error', # Hanya bisa memilih salah stau metric untuk optimisasi\n",
    "    random_state = 2022 \n",
    ")"
   ]
  },
  {
   "cell_type": "code",
   "execution_count": null,
   "id": "80408999-18ec-463d-b26b-c6cd7f9d9cf7",
   "metadata": {},
   "outputs": [],
   "source": [
    "random_knn.fit(X_train, y_train)"
   ]
  },
  {
   "cell_type": "code",
   "execution_count": null,
   "id": "99ef9373-38fe-473d-b26e-02d54e4b7fc9",
   "metadata": {},
   "outputs": [],
   "source": [
    "pd.DataFrame(random_knn.cv_results_).sort_values(by = ['rank_test_neg_root_mean_squared_error', 'rank_test_neg_mean_absolute_error', 'rank_test_neg_mean_absolute_percentage_error']).head(5)"
   ]
  },
  {
   "cell_type": "code",
   "execution_count": null,
   "id": "0d132a8a-e366-4556-8cff-0e9a679a6068",
   "metadata": {},
   "outputs": [],
   "source": [
    "print('KNN Tuning')\n",
    "print('Best_score:', random_knn.best_score_*-1)\n",
    "print('Best_params:', random_knn.best_params_)"
   ]
  },
  {
   "cell_type": "code",
   "execution_count": null,
   "id": "19790fc6-e1e1-436c-9ab6-75fa7c633864",
   "metadata": {},
   "outputs": [],
   "source": [
    "model = random_knn.best_estimator_\n",
    "crossval = KFold(n_splits=5, shuffle=True, random_state=2022)\n",
    "\n",
    "score_RMSE = []\n",
    "nilai_mean_RMSE = []\n",
    "nilai_std_RMSE = []\n",
    "\n",
    "model_cv = np.sqrt(-cross_val_score(model, X_train, y_train, cv = crossval, scoring = 'neg_mean_squared_error'))\n",
    "score_RMSE.append(model_cv)\n",
    "nilai_mean_RMSE.append(model_cv.mean())\n",
    "nilai_std_RMSE.append(model_cv.std())\n",
    "\n",
    "score_MAE = []\n",
    "nilai_mean_MAE = []\n",
    "nilai_std_MAE = []\n",
    "\n",
    "model_cv = (-cross_val_score(model, X_train, y_train, cv = crossval, scoring = 'neg_mean_absolute_error'))\n",
    "score_MAE.append(model_cv)\n",
    "nilai_mean_MAE.append(model_cv.mean())\n",
    "nilai_std_MAE.append(model_cv.std())\n",
    "\n",
    "score_R_Squared = []\n",
    "\n",
    "model_cv = (cross_val_score(model, X_train, y_train, cv = crossval, scoring = 'r2'))\n",
    "score_R_Squared.append(model_cv)\n",
    "\n",
    "print('KNN Tuning Validation')\n",
    "pd.DataFrame({\n",
    "    'model' : 'KNN tuning',\n",
    "    'RMSE_Score' : score_RMSE,\n",
    "    'Mean_RMSE': nilai_mean_RMSE,\n",
    "    'Std_RMSE': nilai_std_RMSE,\n",
    "    'MAE_Score' : score_MAE,\n",
    "    'Mean_MAE': nilai_mean_MAE,\n",
    "    'Std_MAE': nilai_std_MAE,\n",
    "    'R-Squared' : score_R_Squared\n",
    "})"
   ]
  },
  {
   "cell_type": "code",
   "execution_count": null,
   "id": "ffbefcfd-81a3-40df-a4fd-0c07cc80543f",
   "metadata": {},
   "outputs": [],
   "source": [
    "# Define model terhadap estimator terbaik\n",
    "knn_tuning =  {'KNN tuning' : random_knn.best_estimator_}\n",
    "compare_rmse_knn_tuning = []\n",
    "compare_mae_knn_tuning = []\n",
    "compare_mape_knn_tuning = []\n",
    "compare_r2_knn_tuning = []\n",
    "\n",
    "# Fitting model\n",
    "knn_tuning['KNN tuning'].fit(X_train, y_train)\n",
    "\n",
    "# Predict test set\n",
    "y_pred_knn_tuning = knn_tuning['KNN tuning'].predict(X_test)\n",
    "\n",
    "# Simpan nilai metrics RMSE, MAE & MAPE setelah tuning\n",
    "compare_rmse_knn_tuning.append(np.sqrt(mean_squared_error(y_test, y_pred_knn_tuning)))\n",
    "compare_mae_knn_tuning.append(mean_absolute_error(y_test, y_pred_knn_tuning))\n",
    "compare_mape_knn_tuning.append(mean_absolute_percentage_error(y_test, y_pred_knn_tuning))\n",
    "compare_r2_knn_tuning.append(r2_score(y_test, y_pred_knn_tuning))\n",
    "\n",
    "knn_after_tuning = pd.DataFrame({'RMSE' :  compare_rmse_knn_tuning,\n",
    "                                 'MAE' : compare_mae_knn_tuning, \n",
    "                                 'MAPE' : compare_mape_knn_tuning, \n",
    "                                 'R-Squared' : compare_r2_knn_tuning\n",
    "                                }, index = knn_tuning.keys())\n",
    "print('KNN tuning test')\n",
    "knn_after_tuning"
   ]
  },
  {
   "cell_type": "code",
   "execution_count": null,
   "id": "6643c470-af2b-4256-98cd-0cdb6fe802b4",
   "metadata": {},
   "outputs": [],
   "source": [
    "knn_before_tuning = pd.DataFrame(score_before_tuning.loc['KNN']).T\n",
    "print('before tuning')\n",
    "knn_before_tuning"
   ]
  },
  {
   "cell_type": "markdown",
   "id": "401eb7b0-8337-4534-a34d-9167f0e83fce",
   "metadata": {},
   "source": [
    "Dari hasil parameter tuning KNN seletah di Tuning memperlihatkan performa yang lebih baik di bandingkan dengan KNN sebelum dilakukan tuning"
   ]
  },
  {
   "cell_type": "code",
   "execution_count": null,
   "id": "5dc5dff6-ac98-4b5c-a5d9-13b7cdd83f99",
   "metadata": {},
   "outputs": [],
   "source": [
    "plt.figure(figsize=(14, 8))\n",
    "plot = sns.regplot(x=y_test, y=y_pred).set(title='KNN After Tuning\\nActual vs. Prediction Price',\n",
    "                                               xlabel='Actual Price', \n",
    "                                               ylabel='Predicted Price');"
   ]
  },
  {
   "cell_type": "markdown",
   "id": "2c908007-e5be-45bf-b759-8ba96cf687ed",
   "metadata": {},
   "source": [
    "dari plot di atas data actual dan predict terlihat bahwa dari data di bawah 250000 data terlihat cukup padat di dekat garis regresi, namun di atas 250.000 hasil predict mulai menyebar menjauhi garis regresi yang artinya memiliki nilai bias yang cukup tinggi"
   ]
  },
  {
   "cell_type": "markdown",
   "id": "ce7c12ce-2739-4f9c-89ed-1304d445b550",
   "metadata": {
    "tags": []
   },
   "source": [
    "> ## Hyperparameter Tuning XGBoost"
   ]
  },
  {
   "cell_type": "code",
   "execution_count": null,
   "id": "b5de6d24-2d31-4ab4-8ef4-743bf6739b70",
   "metadata": {},
   "outputs": [],
   "source": [
    "# Kedalaman pohon\n",
    "max_depth = list(np.arange(15, 31))\n",
    "\n",
    "# Learning rate\n",
    "learning_rate = list(np.arange(1, 100)/100)\n",
    "\n",
    "# Jumlah pohon\n",
    "n_estimators = list(np.arange(100, 251))\n",
    "\n",
    "# Jumlah baris tiap pohon (% dari total baris train set)\n",
    "subsample = list(np.arange(2, 10)/10)\n",
    "\n",
    "# Gamma (min_impurity_decrease)\n",
    "gamma = list(np.arange(1, 11)) # Semakin besar nilainya, semakin konservatif/simpel modelnya\n",
    "\n",
    "# Jumlah feature yang digunakan untuk tiap pohon (% dari total kolom train set)\n",
    "colsample_bytree = list(np.arange(1, 11/10))\n",
    "\n",
    "# Alpha (regularization)\n",
    "reg_alpha = list(np.logspace(-3, 1, 10)) # Semakin besar nilainya, semakin konservatif/simpel modelnya\n",
    "\n",
    "# Hyperparam space XGboost\n",
    "hyperparam_space_xgb = {\n",
    "    'model__max_depth': max_depth, \n",
    "    'model__learning_rate': learning_rate,\n",
    "    'model__n_estimators': n_estimators,\n",
    "    'model__subsample': subsample,\n",
    "    'model__gamma': gamma,\n",
    "    'model__colsample_bytree': colsample_bytree,\n",
    "    'model__reg_alpha': reg_alpha\n",
    "}"
   ]
  },
  {
   "cell_type": "code",
   "execution_count": null,
   "id": "7e689dae-fc16-455c-9d75-fbfe0579e40f",
   "metadata": {},
   "outputs": [],
   "source": [
    "# Benchmark model dengan hyperparameter tuning\n",
    "xgb = XGBRegressor(random_state=2022)\n",
    "\n",
    "# Membuat algorithm chains\n",
    "estimator_xgb = Pipeline([\n",
    "        ('preprocessing', transformer),\n",
    "        ('model', xgb)\n",
    "        ])\n",
    "\n",
    "crossval = KFold(n_splits=5, shuffle=True, random_state=1)\n",
    "\n",
    "# Hyperparameter tuning\n",
    "random_xgb = RandomizedSearchCV(\n",
    "    estimator_xgb, \n",
    "    param_distributions = hyperparam_space_xgb,\n",
    "    n_iter = 50,\n",
    "    cv = crossval, \n",
    "    scoring = ['neg_root_mean_squared_error', 'neg_mean_absolute_error', 'neg_mean_absolute_percentage_error'], \n",
    "    n_jobs = -1,\n",
    "    refit = 'neg_root_mean_squared_error', # Hanya bisa memilih salah stau metric untuk optimisasi\n",
    "    random_state = 2022 \n",
    ")"
   ]
  },
  {
   "cell_type": "code",
   "execution_count": null,
   "id": "a9020c7a-38d5-48c6-aa2f-774be4ea270d",
   "metadata": {},
   "outputs": [],
   "source": [
    "random_xgb.fit(X_train, y_train)"
   ]
  },
  {
   "cell_type": "code",
   "execution_count": null,
   "id": "614d9b48-f795-4e0a-b867-bc04b6c00cdf",
   "metadata": {},
   "outputs": [],
   "source": [
    "pd.DataFrame(random_xgb.cv_results_).sort_values(by = ['rank_test_neg_root_mean_squared_error', 'rank_test_neg_mean_absolute_error', 'rank_test_neg_mean_absolute_percentage_error']).head(10)"
   ]
  },
  {
   "cell_type": "code",
   "execution_count": null,
   "id": "012f3004-5cc6-4ea2-8691-1374cc6172d9",
   "metadata": {},
   "outputs": [],
   "source": [
    "print('XGBoost')\n",
    "print('Best_score:', random_xgb.best_score_*-1)\n",
    "print('Best_params:', random_xgb.best_params_)"
   ]
  },
  {
   "cell_type": "code",
   "execution_count": null,
   "id": "d2ec03db-6af6-4d7f-803e-707a51d1dbc7",
   "metadata": {},
   "outputs": [],
   "source": [
    "model = random_xgb.best_estimator_\n",
    "crossval = KFold(n_splits=5, shuffle=True, random_state=2022)\n",
    "\n",
    "score_RMSE = []\n",
    "nilai_mean_RMSE = []\n",
    "nilai_std_RMSE = []\n",
    "\n",
    "model_cv = np.sqrt(-cross_val_score(model, X_train, y_train, cv = crossval, scoring = 'neg_mean_squared_error'))\n",
    "score_RMSE.append(model_cv)\n",
    "nilai_mean_RMSE.append(model_cv.mean())\n",
    "nilai_std_RMSE.append(model_cv.std())\n",
    "\n",
    "score_MAE = []\n",
    "nilai_mean_MAE = []\n",
    "nilai_std_MAE = []\n",
    "\n",
    "model_cv = (-cross_val_score(model, X_train, y_train, cv = crossval, scoring = 'neg_mean_absolute_error'))\n",
    "score_MAE.append(model_cv)\n",
    "nilai_mean_MAE.append(model_cv.mean())\n",
    "nilai_std_MAE.append(model_cv.std())\n",
    "\n",
    "score_R_Squared = []\n",
    "\n",
    "model_cv = (cross_val_score(model, X_train, y_train, cv = crossval, scoring = 'r2'))\n",
    "score_R_Squared.append(model_cv)\n",
    "\n",
    "print('XGBoost Tuning Validation')\n",
    "pd.DataFrame({\n",
    "    'model' : 'XGBoost tuning',\n",
    "    'RMSE_Score' : score_RMSE,\n",
    "    'Mean_RMSE': nilai_mean_RMSE,\n",
    "    'Std_RMSE': nilai_std_RMSE,\n",
    "    'MAE_Score' : score_MAE,\n",
    "    'Mean_MAE': nilai_mean_MAE,\n",
    "    'Std_MAE': nilai_std_MAE,\n",
    "    'R-Squared' : score_R_Squared\n",
    "})"
   ]
  },
  {
   "cell_type": "code",
   "execution_count": null,
   "id": "b0cbe651-3798-49dc-9b4f-0c742b1bb2e8",
   "metadata": {},
   "outputs": [],
   "source": [
    "# Define model terhadap estimator terbaik\n",
    "xgb_tuning =  {'XGBoost tuning' : random_xgb.best_estimator_}\n",
    "compare_rmse_xgb_tuning = []\n",
    "compare_mae_xgb_tuning = []\n",
    "compare_mape_xgb_tuning = []\n",
    "compare_r2_xgb_tuning = []\n",
    "\n",
    "# Fitting model\n",
    "xgb_tuning['XGBoost tuning'].fit(X_train, y_train)\n",
    "\n",
    "# Predict test set\n",
    "y_pred_xgb_tuning = xgb_tuning['XGBoost tuning'].predict(X_test)\n",
    "\n",
    "# Simpan nilai metrics RMSE, MAE, MAPE & R2 setelah tuning\n",
    "compare_rmse_xgb_tuning.append(np.sqrt(mean_squared_error(y_test, y_pred_xgb_tuning)))\n",
    "compare_mae_xgb_tuning.append(mean_absolute_error(y_test, y_pred_xgb_tuning))\n",
    "compare_mape_xgb_tuning.append(mean_absolute_percentage_error(y_test, y_pred_xgb_tuning))\n",
    "compare_r2_xgb_tuning.append(r2_score(y_test, y_pred_xgb_tuning))\n",
    "\n",
    "xgb_after_tuning = pd.DataFrame({'RMSE' :  compare_rmse_xgb_tuning, \n",
    "                                 'MAE' : compare_mae_xgb_tuning, \n",
    "                                 'MAPE' : compare_mape_xgb_tuning, \n",
    "                                 'R-Squared' : compare_r2_xgb_tuning\n",
    "                                }, index=xgb_tuning.keys())\n",
    "print('XGBoost tuning test')\n",
    "xgb_after_tuning"
   ]
  },
  {
   "cell_type": "code",
   "execution_count": null,
   "id": "4b598e69-dddd-4246-b76b-dde11841bad4",
   "metadata": {},
   "outputs": [],
   "source": [
    "xgb_before_tuning = pd.DataFrame(score_before_tuning.loc['XGBoost']).T\n",
    "print('before tuning')\n",
    "xgb_before_tuning"
   ]
  },
  {
   "cell_type": "markdown",
   "id": "175f2394-0e53-469c-b213-45689bda0ee2",
   "metadata": {},
   "source": [
    "Dari hasil parameter tuning XGBoost seletah di Tuning memperlihatkan performa yang lebih baik di bandingkan dengan XGBoost sebelum dilakukan tuning"
   ]
  },
  {
   "cell_type": "code",
   "execution_count": null,
   "id": "2620d878-1b83-44c5-9272-554391e43285",
   "metadata": {},
   "outputs": [],
   "source": [
    "plt.figure(figsize=(14, 8))\n",
    "plot = sns.regplot(x=y_test, y=y_pred_xgb_tuning).set(title='XGBoost After Tuning\\nActual vs. Prediction Price',\n",
    "                                               xlabel='Actual Price', \n",
    "                                               ylabel='Predicted Price');"
   ]
  },
  {
   "cell_type": "markdown",
   "id": "d2e92b77-c171-4122-8efd-e079760efc93",
   "metadata": {},
   "source": [
    "dari plot di atas data actual dan predict terlihat bahwa hasil predict mulai menyebar menjauhi garis regresi yang artinya memiliki nilai bias yang cukup tinggi"
   ]
  },
  {
   "cell_type": "markdown",
   "id": "c94c901f-acf8-4351-8393-0d214e95b801",
   "metadata": {},
   "source": [
    "> ## Feature Importance XGBoost after Tuning"
   ]
  },
  {
   "cell_type": "code",
   "execution_count": null,
   "id": "ae332496-d518-4b73-bb8d-534d4d0dc812",
   "metadata": {},
   "outputs": [],
   "source": [
    "transformer.transformers_[0][1].get_feature_names()"
   ]
  },
  {
   "cell_type": "code",
   "execution_count": null,
   "id": "fca80e77-1269-4915-99b1-2bb59f85cfed",
   "metadata": {},
   "outputs": [],
   "source": [
    "transformer.transformers_[1][1].get_feature_names_out()"
   ]
  },
  {
   "cell_type": "code",
   "execution_count": null,
   "id": "c3b19f3e-72d9-40cc-a48b-bc9f36ba5665",
   "metadata": {},
   "outputs": [],
   "source": [
    "features = list(transformer.transformers_[0][1].get_feature_names()) +  list(transformer.transformers_[1][1].get_feature_names_out())"
   ]
  },
  {
   "cell_type": "code",
   "execution_count": null,
   "id": "13614200-adab-42d6-9bd6-7bc6c77a8594",
   "metadata": {},
   "outputs": [],
   "source": [
    "features"
   ]
  },
  {
   "cell_type": "code",
   "execution_count": null,
   "id": "bd463186-bc4d-4b1a-b5be-0a2fcb2a5971",
   "metadata": {
    "tags": []
   },
   "outputs": [],
   "source": [
    "# Plot feature importances\n",
    "xgb_feature_imp = pd.Series(xgb_tuning['XGBoost tuning']['model'].feature_importances_, features).sort_values(ascending = False)\n",
    "xgb_feature_imp.plot(kind='barh', title='Feature Importances');"
   ]
  },
  {
   "cell_type": "markdown",
   "id": "d0b5965f-0afc-4962-8418-e1d57538655d",
   "metadata": {},
   "source": [
    "feature importance pada XGBoost menunjukan bahwa setiap feature memiliki nilai yang tidak terlalu jauh feature yang paling tinggi adalah ```median_income``` sedangkan yang paling kecil adalah ```housing_median_age``` meskipun nilai feature ```county_0``` lebih kecil di bandingkan ```housing_median_age``` tetapi niulai ```county_0``` memiliki nilai lebih besar.\n",
    "\n",
    "**karna nilai antar feature tidak terlalu jauh saya memutuskan untuk tidak menghapus feature apapun pada model XGBoost.**"
   ]
  },
  {
   "cell_type": "markdown",
   "id": "04d38801-885c-482c-bfd1-a5175a890c6f",
   "metadata": {},
   "source": [
    "> ## Compare KNN dan XGBoost, before dan after tuning"
   ]
  },
  {
   "cell_type": "code",
   "execution_count": null,
   "id": "1880105e-9c45-413c-a910-fc2ee445ec5f",
   "metadata": {},
   "outputs": [],
   "source": [
    "pd.concat([xgb_before_tuning, xgb_after_tuning, knn_before_tuning, knn_after_tuning])"
   ]
  },
  {
   "cell_type": "markdown",
   "id": "9a7bab39-abf3-40dd-be69-41b3913f8414",
   "metadata": {},
   "source": [
    "dari tabel compare performance model, KNN yang sudah di tuning memiliki performance paling baik adalah KNN setalah di tuning"
   ]
  },
  {
   "cell_type": "code",
   "execution_count": null,
   "id": "8178934f-0f03-49a6-aeec-498f7d478c88",
   "metadata": {},
   "outputs": [],
   "source": [
    "plt.figure(figsize=(22, 8))\n",
    "plt.subplot(1,2,1)\n",
    "plot = sns.scatterplot(x=y_test, y=y_pred_knn_tuning).set(title='KNN After Tuning\\nActual vs. Prediction Price', \n",
    "                                               xlabel='Actual Price', \n",
    "                                               ylabel='Predicted Price');\n",
    "sns.lineplot(x=[0,500000], y=[0,500000], color='r')\n",
    "plt.subplot(1,2,2)\n",
    "plot = sns.scatterplot(x=y_test, y=y_pred_xgb_tuning).set(title='XGBoost After Tuning\\nActual vs. Prediction Price', \n",
    "                                               xlabel='Actual Price', \n",
    "                                               ylabel='Predicted Price');\n",
    "sns.lineplot(x=[0,500000], y=[0,500000], color='r')"
   ]
  },
  {
   "cell_type": "markdown",
   "id": "bd671ed2-64b8-4249-81c1-31eec87c4f90",
   "metadata": {},
   "source": [
    "dari plot di atas terlihat bahwa model KNN Tuning memiliki nilai predict lebih rapat dibanding XGBoost yang artinya memuiliki nalai bias yang relatif lebih kecil di bandingkan XGBoost Tuning"
   ]
  },
  {
   "cell_type": "markdown",
   "id": "92b4f8ad-898a-4da4-8aab-6852c1b72183",
   "metadata": {},
   "source": [
    "Untuk interpretasi selanjutnya akan menggunakan Model terbaik yaitu KNN Tuning"
   ]
  },
  {
   "cell_type": "markdown",
   "id": "0442420d-bcf7-48b5-b481-4c712405d8eb",
   "metadata": {
    "toc-hr-collapsed": true
   },
   "source": [
    "# Compare KNN Tuning predict dengan Actual"
   ]
  },
  {
   "cell_type": "code",
   "execution_count": null,
   "id": "63b0b334-3613-47ff-9e21-1998868c070a",
   "metadata": {
    "tags": []
   },
   "outputs": [],
   "source": [
    "test = pd.DataFrame({'Predicted':y_pred_knn_tuning,'Actual':y_test})\n",
    "fig= plt.figure(figsize=(16,8))\n",
    "test = test.reset_index()\n",
    "test = test.drop(['index'],axis=1)\n",
    "plt.plot(test[:150])\n",
    "plt.title('Compare KNN Tuning predict dengan Actual', size = 16)\n",
    "plt.legend(['Actual','Predicted'])\n",
    "sns.jointplot(x='Actual',y='Predicted',data=test,kind=\"reg\")"
   ]
  },
  {
   "cell_type": "markdown",
   "id": "507e9587-d77e-4c3a-9e22-16e34591ebd1",
   "metadata": {},
   "source": [
    "> ## Predict yang meleset"
   ]
  },
  {
   "cell_type": "code",
   "execution_count": null,
   "id": "368e2ae6-58fc-4b4f-90dc-b71e477dfebf",
   "metadata": {},
   "outputs": [],
   "source": [
    "test['Different'] = test['Actual'] - test['Predicted']"
   ]
  },
  {
   "cell_type": "code",
   "execution_count": null,
   "id": "e0f3fa94-06c8-42b2-840d-83103128aafa",
   "metadata": {},
   "outputs": [],
   "source": [
    "test[test['Different'] == test['Different'].max()]"
   ]
  },
  {
   "cell_type": "code",
   "execution_count": null,
   "id": "9107002f-0a6a-4e3e-85c7-28577235e5d0",
   "metadata": {},
   "outputs": [],
   "source": [
    "df.iloc[2947]"
   ]
  },
  {
   "cell_type": "code",
   "execution_count": null,
   "id": "fad2255b-134d-4ceb-ab11-9604e8329423",
   "metadata": {},
   "outputs": [],
   "source": [
    "test[test['Different'] == test['Different'].min()]"
   ]
  },
  {
   "cell_type": "code",
   "execution_count": null,
   "id": "07bf267a-9be6-42b3-895e-f10587b84189",
   "metadata": {},
   "outputs": [],
   "source": [
    "df.iloc[309]"
   ]
  },
  {
   "cell_type": "code",
   "execution_count": null,
   "id": "80e58c9c-1d82-4ff6-adc3-d0614eb4844b",
   "metadata": {},
   "outputs": [],
   "source": [
    "df[(df['median_income'] > 3) & (df['median_income'] < 4)]"
   ]
  },
  {
   "cell_type": "code",
   "execution_count": null,
   "id": "b82c3d82-08b3-44a0-a3fa-e35d7a23d1d3",
   "metadata": {},
   "outputs": [],
   "source": [
    "test"
   ]
  },
  {
   "cell_type": "markdown",
   "id": "4967fa9c-4c20-45d8-8d8c-fefbf88ea4ec",
   "metadata": {},
   "source": [
    "# Kesimpulan"
   ]
  },
  {
   "cell_type": "markdown",
   "id": "b5b9a435-3f33-4e37-be05-78e9f1b3897b",
   "metadata": {},
   "source": [
    "Dari hasil data di atas feature yang paling mempengaruhi harga rumah adalah feature ```median_income```\n",
    "\n",
    "Metrik evaluasi yang digunakan pada model adalah nilai RMSE, MAE, MAPE, dan R-Squared. Bila di tinjau dari nilai RMSE model KNN yang telah di tuning yaitu sebesar 53834.24 kita dapat menyimpulkan bahwa bila nanti model ini di guanakan untuk memprediksi harga rumah di california pada rentang nilai seperti yang dilatih terhadap model (maksimal harga USD 500000) perkiraan rata\" akan meleset sekitar 53834.24. Tetapi kenyataannya pengujuan model terhadap data test memiliki nilai yang meleset yang paling tinggi diatas 300000. Hal ini terjadi karna adanya bias yang cukup tinggi pada model. dari tinjauan dari data dengan index 2947 yang memiliki nilai difference tertinggi, pada data ini terlihat memiliki nilai median incame yang relatif tinggi dengan nilai 3.68 atau setara dengan 36800 dollar. dengan populasi yang relatif sedikit. dan ini dapat menimbulkan bias. \n",
    "\n",
    "Bias juga terjadi karna dataset memiliki feature yang sedikit dan kurang mengpresentasikan harga perumahan, seperti fasilitas yang terdapat pada perumahan, seperti garasi tiap rumah, kolam renang, pos scurity dan sebagainya. Hanya Umur rumah, total ruangan dan total kamar saja tidak dapat mewakili fasilitas yang terdapat pada rumah tersebut."
   ]
  },
  {
   "cell_type": "markdown",
   "id": "7980b738-51c9-4d1a-8c08-735f393a9fcb",
   "metadata": {},
   "source": [
    "# Rekomendasi"
   ]
  },
  {
   "cell_type": "markdown",
   "id": "6febdf0d-8b26-481c-953e-93f3e6924a6c",
   "metadata": {},
   "source": [
    "1. Melihat kembali data predict, data mana saja yang memiliki nilai error yang tinggi. dan membandingan feature - feature mana saja yang menyebabkan model menghasilkan error tersebut dan aspek apa yang menyebabkan model menghasilkan error yang tinggi, sehingga kita dapat melakukan trainning ulang dengan penerapan feature enggineering lainnya. \n",
    "\n",
    "1. Menambah data dan variabel pada dataset yang berhubungan dengan harga perumahan seperti fasilitas - fasilitas yang terdapat pada rumah, dengan adanya penambahan data dan variabel kita dapat menggunakan model lain yang lebih compleks.\n",
    "\n",
    "1. Karena KNN regressor termasuk model yang memiliki sensitifitas terhadap outlier, dengan menghilangkan outlier dapat memper kecil bias yang terjadi pada model KNN Regressor. Alternatif lain bisa menggunakan model yang memiliki ketahanan terhadap outlier"
   ]
  },
  {
   "cell_type": "markdown",
   "id": "b44daf34-f123-4070-9b3d-f4948eaf32c6",
   "metadata": {},
   "source": [
    "****"
   ]
  },
  {
   "cell_type": "markdown",
   "id": "6b0fc561-6c7d-4cb1-ba16-1930f0c0ef48",
   "metadata": {
    "tags": [],
    "toc-hr-collapsed": true
   },
   "source": [
    "# Using Machine Learning"
   ]
  },
  {
   "cell_type": "code",
   "execution_count": null,
   "id": "62a3e85d-e13b-46f8-bae9-c5c4aba03f9f",
   "metadata": {},
   "outputs": [],
   "source": [
    "import pickle"
   ]
  },
  {
   "cell_type": "markdown",
   "id": "0353e6b8-90ec-4935-bce8-2ac3f6c6c482",
   "metadata": {},
   "source": [
    "> ## Save ML"
   ]
  },
  {
   "cell_type": "code",
   "execution_count": null,
   "id": "4d0caad0-b49d-4c6b-b88e-8620e4f585bc",
   "metadata": {},
   "outputs": [],
   "source": [
    "file_name = 'California Price Predict.sav'\n",
    "\n",
    "pickle.dump(knn_tuning['KNN tuning'], open(file_name,'wb'))"
   ]
  },
  {
   "cell_type": "markdown",
   "id": "97514983-f0b7-4e06-99db-a7b215ba56bb",
   "metadata": {},
   "source": [
    "> ## Load ML"
   ]
  },
  {
   "cell_type": "code",
   "execution_count": null,
   "id": "1c108d27-3851-40de-8597-7bcc70edd162",
   "metadata": {
    "tags": []
   },
   "outputs": [],
   "source": [
    "loaded_model = pickle.load(open(file_name,'rb'))"
   ]
  },
  {
   "cell_type": "code",
   "execution_count": null,
   "id": "8f2ff739-f537-4e56-b12c-14674527af21",
   "metadata": {},
   "outputs": [],
   "source": [
    "loaded_model.predict(X_test)"
   ]
  },
  {
   "cell_type": "code",
   "execution_count": null,
   "id": "8ba638d3-4917-42c1-b3b8-13f393f98311",
   "metadata": {},
   "outputs": [],
   "source": [
    "X_test.head(10)"
   ]
  },
  {
   "cell_type": "markdown",
   "id": "b36680f2-8444-4f24-9faf-f46175d3bb0f",
   "metadata": {},
   "source": [
    "> ## Test ML"
   ]
  },
  {
   "cell_type": "code",
   "execution_count": null,
   "id": "7f32b3de-e488-4324-982d-9bb665fd0ab8",
   "metadata": {},
   "outputs": [],
   "source": [
    "price_pred = pd.DataFrame({\n",
    "    'county': ['Ventura County', 'Orange County'],\n",
    "    'housing_median_age': [15.0, 50],\n",
    "    'total_rooms': [1679.0, 5000],\n",
    "    'total_bedrooms': [271.0, 2500],\n",
    "    'population': [928.0, 4500],\n",
    "    'households': [264.0, 1500],\n",
    "    'median_income': [5.5681, 4]\n",
    "})"
   ]
  },
  {
   "cell_type": "code",
   "execution_count": null,
   "id": "4e4859d3-d002-46c8-a734-396d44fcef86",
   "metadata": {},
   "outputs": [],
   "source": [
    "price_pred"
   ]
  },
  {
   "cell_type": "code",
   "execution_count": null,
   "id": "d049aa60-e3fc-4acb-9007-ce74495b7fcb",
   "metadata": {},
   "outputs": [],
   "source": [
    "loaded_model.predict(price_pred)"
   ]
  },
  {
   "cell_type": "code",
   "execution_count": null,
   "id": "fed773d6-a5f5-4b63-9d18-c0ac5480bbee",
   "metadata": {},
   "outputs": [],
   "source": [
    "y_test.iloc[0]"
   ]
  }
 ],
 "metadata": {
  "kernelspec": {
   "display_name": "Python 3 (ipykernel)",
   "language": "python",
   "name": "python3"
  },
  "language_info": {
   "codemirror_mode": {
    "name": "ipython",
    "version": 3
   },
   "file_extension": ".py",
   "mimetype": "text/x-python",
   "name": "python",
   "nbconvert_exporter": "python",
   "pygments_lexer": "ipython3",
   "version": "3.7.13"
  }
 },
 "nbformat": 4,
 "nbformat_minor": 5
}
